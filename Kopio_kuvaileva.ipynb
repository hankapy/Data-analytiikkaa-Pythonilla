{
  "cells": [
    {
      "cell_type": "markdown",
      "metadata": {
        "id": "view-in-github",
        "colab_type": "text"
      },
      "source": [
        "<a href=\"https://colab.research.google.com/github/hankapy/Data-analytiikkaa-Pythonilla/blob/main/Kopio_kuvaileva.ipynb\" target=\"_parent\"><img src=\"https://colab.research.google.com/assets/colab-badge.svg\" alt=\"Open In Colab\"/></a>"
      ]
    },
    {
      "cell_type": "code",
      "execution_count": null,
      "id": "fb79d60c",
      "metadata": {
        "id": "fb79d60c",
        "outputId": "7ca0bb91-54d9-401f-cf9d-33ab30cd4756",
        "colab": {
          "base_uri": "https://localhost:8080/"
        }
      },
      "outputs": [
        {
          "output_type": "stream",
          "name": "stdout",
          "text": [
            "Päivitetty 2024-02-08 / Aki Taanila\n"
          ]
        }
      ],
      "source": [
        "from datetime import datetime\n",
        "print(f'Päivitetty {datetime.now().date()} / Aki Taanila')"
      ]
    },
    {
      "cell_type": "markdown",
      "source": [
        "## Yhdistäminen Google-driveen\n",
        "\n",
        "Ennen seuraavan solun koodin suoritusta sinun täytyy varmistaa että olet luonut Google-driveesi kansion, jonka nimenä on **data**.\n",
        "\n",
        "Seuraavan solun koodilla voit yhdistää Colabin oman Google-driven data-kansioon. Tämän jälkeen voit helposti avata data-kansioon tallentamiasi datoja."
      ],
      "metadata": {
        "id": "5kIv2SDyXqC6"
      },
      "id": "5kIv2SDyXqC6"
    },
    {
      "cell_type": "code",
      "source": [
        "# Yhdistäminen Google driveen\n",
        "from google.colab import drive\n",
        "drive.mount('/gdrive')\n",
        "%cd /gdrive/MyDrive/data"
      ],
      "metadata": {
        "colab": {
          "base_uri": "https://localhost:8080/"
        },
        "id": "eJU_pExdUXkw",
        "outputId": "a81cefbb-5559-4c8e-916b-efed6ab07d0d"
      },
      "id": "eJU_pExdUXkw",
      "execution_count": null,
      "outputs": [
        {
          "output_type": "stream",
          "name": "stdout",
          "text": [
            "Mounted at /gdrive\n",
            "/gdrive/MyDrive/data\n"
          ]
        }
      ]
    },
    {
      "cell_type": "markdown",
      "id": "41493c87",
      "metadata": {
        "id": "41493c87"
      },
      "source": [
        "# Kuvaileva analytiikka - parhaat käytänteet\n",
        "\n",
        "Oletan, että muistion https://nbviewer.org/github/taanila/kuvaileva/blob/main/pandas1.ipynb sisältö on lukijalle tuttu.\n",
        "\n",
        "Tässä muistiossa käytän seuraavia funktioita laskentaan:\n",
        "\n",
        "* **crosstab** frekvenssitaulukon laskemiseen\n",
        "* **cut** määrällisen muuttujan luokitteluun\n",
        "* **count** lukumäärän laskemiseen\n",
        "* **sum** summan laskemiseen\n",
        "* **mean** keskiarvon laskemiseen\n",
        "* **describe** tilastollisten tunnuslukujen laskemiseen\n",
        "\n",
        "Tässä muistiossa käytän seuraavia funktioita kaavioiden luontiin:\n",
        "\n",
        "* **plot(kind='bar')** pystypylväskaavio\n",
        "* **barplot** seaborn-kirjaston pylväskaavio, joka esittää oletuksena keskiarvot, mutta keskiarvon sijasta voin käyttää muitakin funktioita (esimerkiksi **sum**)\n",
        "* **countplot** seaborn-kirjaston pylväskaavio, joka esittää lukumääriä\n",
        "* **histplot** seaborn-kirjaston histogrammi, joka esittää luokitellun jakauman\n",
        "* **boxplot** seaborn-kirjaston kaavio, joka esittää viiden luvun yhteenvedon\n",
        "* **subplots** useita kaavioita sisältävän kuvion luonti\n",
        "\n",
        "Käytän muotoiltuja merkijonoja (**f-string**). F-string alkaa f-kirjaimella, jota seuraa merkkijono. Merkkijonon sisällä voin käyttää Pythonin muuttujien arvoja ja laskukaavoja aaltosulkujen sisällä; esimerkiksi `f'Alennettu hinta {0.90*hinta}'`. Jos viittaan datan muuttujaan f-stringin sisällä, niin käytän muuttujan ympärillä heittomerkkien sijasta lainausmerkkejä, esimerkiksi `f'lukumäärä (n = {df[\"ikä\"].count()})'`.\n",
        "\n",
        "\n",
        "\n",
        "## Alkuvalmistelut"
      ]
    },
    {
      "cell_type": "code",
      "execution_count": null,
      "id": "8f8f22d2",
      "metadata": {
        "id": "8f8f22d2"
      },
      "outputs": [],
      "source": [
        "import pandas as pd\n",
        "\n",
        "# Grafiikkaa varten\n",
        "import matplotlib.pyplot as plt\n",
        "import seaborn as sns\n",
        "sns.set_style('whitegrid')\n",
        "\n",
        "# Kaavioiden prosenttiakselin muotoiluun\n",
        "from matplotlib.ticker import PercentFormatter\n",
        "ticks = PercentFormatter(xmax=100, decimals=0, symbol=' %')\n",
        "\n",
        "# Sanakirja taulukoiden muotoiluun\n",
        "# f-sarakkeeseen 0 desimaalia, %-sarakkeeseen 1 desimaali\n",
        "format = {'f':'{:.0f}', '%':'{:.1f} %'}"
      ]
    },
    {
      "cell_type": "markdown",
      "source": [
        "Jos datan avaaminen antaa virheilmoituksen, niin data-kansion kytkeminen Colabiin ei ole onnistunut tai data1.xlsx-tiedostoa ei ole data-kansiossa.\n",
        "\n",
        "Voit vaihtoehtoisesti avata tiedoston netistä komennolla `df = pd.read_excel('https://taanila.fi/data1.xlsx')`"
      ],
      "metadata": {
        "id": "ZLvqYqxKXx7T"
      },
      "id": "ZLvqYqxKXx7T"
    },
    {
      "cell_type": "code",
      "execution_count": null,
      "id": "5caa23ee",
      "metadata": {
        "id": "5caa23ee"
      },
      "outputs": [],
      "source": [
        "df = pd.read_excel('data1.xlsx')\n",
        "\n",
        "# Muuttujien tekstimuotoisia arvoja listoina\n",
        "sukup = ['mies', 'nainen']\n",
        "koulutus = ['peruskoulu', '2. aste', 'korkeakoulu', 'ylempi korkeakoulu']\n",
        "tyytyväisyys = ['erittäin tyytymätön', 'tyytymätön', 'siltä väliltä',\n",
        "                'tyytyväinen', 'erittäin tyytyväinen']"
      ]
    },
    {
      "cell_type": "markdown",
      "id": "0a83e68f",
      "metadata": {
        "id": "0a83e68f"
      },
      "source": [
        "## Frekvenssitaulukko kategoriselle muuttujalle"
      ]
    },
    {
      "cell_type": "code",
      "execution_count": null,
      "id": "ace53498",
      "metadata": {
        "id": "ace53498",
        "outputId": "1243253e-cad1-424f-9dd1-338455a266c0",
        "colab": {
          "base_uri": "https://localhost:8080/",
          "height": 174
        }
      },
      "outputs": [
        {
          "output_type": "execute_result",
          "data": {
            "text/plain": [
              "<pandas.io.formats.style.Styler at 0x7ad6650ac2b0>"
            ],
            "text/html": [
              "<style type=\"text/css\">\n",
              "</style>\n",
              "<table id=\"T_e5276\" class=\"dataframe\">\n",
              "  <thead>\n",
              "    <tr>\n",
              "      <th class=\"index_name level0\" ></th>\n",
              "      <th id=\"T_e5276_level0_col0\" class=\"col_heading level0 col0\" >f</th>\n",
              "      <th id=\"T_e5276_level0_col1\" class=\"col_heading level0 col1\" >%</th>\n",
              "    </tr>\n",
              "  </thead>\n",
              "  <tbody>\n",
              "    <tr>\n",
              "      <th id=\"T_e5276_level0_row0\" class=\"row_heading level0 row0\" >peruskoulu</th>\n",
              "      <td id=\"T_e5276_row0_col0\" class=\"data row0 col0\" >27</td>\n",
              "      <td id=\"T_e5276_row0_col1\" class=\"data row0 col1\" >33.3 %</td>\n",
              "    </tr>\n",
              "    <tr>\n",
              "      <th id=\"T_e5276_level0_row1\" class=\"row_heading level0 row1\" >2. aste</th>\n",
              "      <td id=\"T_e5276_row1_col0\" class=\"data row1 col0\" >30</td>\n",
              "      <td id=\"T_e5276_row1_col1\" class=\"data row1 col1\" >37.0 %</td>\n",
              "    </tr>\n",
              "    <tr>\n",
              "      <th id=\"T_e5276_level0_row2\" class=\"row_heading level0 row2\" >korkeakoulu</th>\n",
              "      <td id=\"T_e5276_row2_col0\" class=\"data row2 col0\" >22</td>\n",
              "      <td id=\"T_e5276_row2_col1\" class=\"data row2 col1\" >27.2 %</td>\n",
              "    </tr>\n",
              "    <tr>\n",
              "      <th id=\"T_e5276_level0_row3\" class=\"row_heading level0 row3\" >ylempi korkeakoulu</th>\n",
              "      <td id=\"T_e5276_row3_col0\" class=\"data row3 col0\" >2</td>\n",
              "      <td id=\"T_e5276_row3_col1\" class=\"data row3 col1\" >2.5 %</td>\n",
              "    </tr>\n",
              "  </tbody>\n",
              "</table>\n"
            ]
          },
          "metadata": {},
          "execution_count": 5
        }
      ],
      "source": [
        "df1 = pd.crosstab(df['koulutus'], 'f')\n",
        "\n",
        "df1.columns.name = ''\n",
        "df1.index = koulutus\n",
        "df1['%'] = df1['f']/df1['f'].sum()*100\n",
        "\n",
        "# Näytetään taulukko muotoiltuna\n",
        "df1.style.format(format)"
      ]
    },
    {
      "cell_type": "markdown",
      "id": "5b885e8a",
      "metadata": {
        "id": "5b885e8a"
      },
      "source": [
        "## Frekvenssien graafinen esittäminen"
      ]
    },
    {
      "cell_type": "code",
      "execution_count": null,
      "id": "010b79cb",
      "metadata": {
        "id": "010b79cb",
        "outputId": "ee43223b-48a2-475e-9ca7-09d2ad2445ec",
        "colab": {
          "base_uri": "https://localhost:8080/",
          "height": 430
        }
      },
      "outputs": [
        {
          "output_type": "display_data",
          "data": {
            "text/plain": [
              "<Figure size 640x480 with 1 Axes>"
            ],
            "image/png": "[encoded data removed]"
          },
          "metadata": {}
        }
      ],
      "source": [
        "# Pystypylväskaavio frekvenssitaulukon frekvensseistä\n",
        "df1['f'].plot(kind='bar', width=0.8, rot=0)\n",
        "\n",
        "# y-akselin otsikko\n",
        "plt.ylabel(f'lukumäärä (n = {df1[\"f\"].sum()})')\n",
        "\n",
        "# poistetaan whitegrid-tyylin tuoma x-akselilta lähtevä pystyviivoitus\n",
        "plt.grid(axis='x')"
      ]
    },
    {
      "cell_type": "markdown",
      "id": "486cfdda",
      "metadata": {
        "id": "486cfdda"
      },
      "source": [
        "## Frekvenssiprosenttien graafinen esittäminen"
      ]
    },
    {
      "cell_type": "code",
      "execution_count": null,
      "id": "7bd44af8",
      "metadata": {
        "id": "7bd44af8",
        "outputId": "242224f3-37ba-4fc1-ef52-82bba8b0ab0f",
        "colab": {
          "base_uri": "https://localhost:8080/",
          "height": 430
        }
      },
      "outputs": [
        {
          "output_type": "display_data",
          "data": {
            "text/plain": [
              "<Figure size 640x480 with 1 Axes>"
            ],
            "image/png": "[encoded data removed]"
          },
          "metadata": {}
        }
      ],
      "source": [
        "# Kaavio frekvenssitaulukon prosenteista\n",
        "df1['%'].plot(kind='bar', width=0.8, rot=0)\n",
        "\n",
        "plt.ylabel(f'prosenttia (n = {df1[\"f\"].sum()})')\n",
        "\n",
        "# y-akselin lukujen muotoilu prosenteiksi\n",
        "# gca() (get current axis) viittaa luotuun kaavioon\n",
        "plt.gca().yaxis.set_major_formatter(ticks)\n",
        "\n",
        "plt.grid(axis='x')"
      ]
    },
    {
      "cell_type": "markdown",
      "id": "646fe443",
      "metadata": {
        "id": "646fe443"
      },
      "source": [
        "## Frekvenssit dikotomisille (dummy) muuttujille\n",
        "\n",
        "Datan muuttujat *työterv*, *lomaosa*, *kuntosa* ja *hieroja* ovat dikotomisia (onko käyttänyt kyseistä etuutta?). Arvo 1 tarkoittaa etuuden käyttöä ja ykkösten summana saadaan käyttäjien lukumäärä."
      ]
    },
    {
      "cell_type": "code",
      "execution_count": null,
      "id": "7ae630c4",
      "metadata": {
        "id": "7ae630c4",
        "outputId": "d1bf6448-5c3c-4718-a06a-ad498e010aa7",
        "colab": {
          "base_uri": "https://localhost:8080/",
          "height": 174
        }
      },
      "outputs": [
        {
          "output_type": "execute_result",
          "data": {
            "text/plain": [
              "<pandas.io.formats.style.Styler at 0x7ad69b186680>"
            ],
            "text/html": [
              "<style type=\"text/css\">\n",
              "</style>\n",
              "<table id=\"T_1576f\" class=\"dataframe\">\n",
              "  <thead>\n",
              "    <tr>\n",
              "      <th class=\"blank level0\" >&nbsp;</th>\n",
              "      <th id=\"T_1576f_level0_col0\" class=\"col_heading level0 col0\" >f</th>\n",
              "      <th id=\"T_1576f_level0_col1\" class=\"col_heading level0 col1\" >%</th>\n",
              "    </tr>\n",
              "  </thead>\n",
              "  <tbody>\n",
              "    <tr>\n",
              "      <th id=\"T_1576f_level0_row0\" class=\"row_heading level0 row0\" >työterv</th>\n",
              "      <td id=\"T_1576f_row0_col0\" class=\"data row0 col0\" >47</td>\n",
              "      <td id=\"T_1576f_row0_col1\" class=\"data row0 col1\" >57.3 %</td>\n",
              "    </tr>\n",
              "    <tr>\n",
              "      <th id=\"T_1576f_level0_row1\" class=\"row_heading level0 row1\" >hieroja</th>\n",
              "      <td id=\"T_1576f_row1_col0\" class=\"data row1 col0\" >22</td>\n",
              "      <td id=\"T_1576f_row1_col1\" class=\"data row1 col1\" >26.8 %</td>\n",
              "    </tr>\n",
              "    <tr>\n",
              "      <th id=\"T_1576f_level0_row2\" class=\"row_heading level0 row2\" >lomaosa</th>\n",
              "      <td id=\"T_1576f_row2_col0\" class=\"data row2 col0\" >20</td>\n",
              "      <td id=\"T_1576f_row2_col1\" class=\"data row2 col1\" >24.4 %</td>\n",
              "    </tr>\n",
              "    <tr>\n",
              "      <th id=\"T_1576f_level0_row3\" class=\"row_heading level0 row3\" >kuntosa</th>\n",
              "      <td id=\"T_1576f_row3_col0\" class=\"data row3 col0\" >9</td>\n",
              "      <td id=\"T_1576f_row3_col1\" class=\"data row3 col1\" >11.0 %</td>\n",
              "    </tr>\n",
              "  </tbody>\n",
              "</table>\n"
            ]
          },
          "metadata": {},
          "execution_count": 8
        }
      ],
      "source": [
        "dikot = ['työterv', 'lomaosa', 'kuntosa', 'hieroja']\n",
        "\n",
        "# summat dataframeen ja lopuksi järjestäminen lukumäärän mukaan\n",
        "df2 = df[dikot].sum().to_frame('f').sort_values('f', ascending=False)\n",
        "\n",
        "# Prosentit lasketaan vastaajien lukumäärästä (datan rivien määrä)\n",
        "df2['%'] = df2['f']/df.shape[0]*100\n",
        "\n",
        "df2.style.format(format)"
      ]
    },
    {
      "cell_type": "code",
      "execution_count": null,
      "id": "4756f89e",
      "metadata": {
        "id": "4756f89e",
        "outputId": "4ce7ad6f-a78e-4dc4-ffa2-49a822140d64",
        "colab": {
          "base_uri": "https://localhost:8080/",
          "height": 447
        }
      },
      "outputs": [
        {
          "output_type": "execute_result",
          "data": {
            "text/plain": [
              "Text(0, 0.5, 'lukumäärä')"
            ]
          },
          "metadata": {},
          "execution_count": 9
        },
        {
          "output_type": "display_data",
          "data": {
            "text/plain": [
              "<Figure size 640x480 with 1 Axes>"
            ],
            "image/png": "[encoded data removed]"
          },
          "metadata": {}
        }
      ],
      "source": [
        "# Muuttujien lista frekvenssien mukaisessa järjestyksessä\n",
        "list = df[dikot].sum().sort_values(ascending=False).index\n",
        "\n",
        "# Seaborn kaaviot tehdään suoraan alkuperäisestä datasta,\n",
        "# joten edellisessä solussa laskettua taulukkoa ei tarvita\n",
        "# fillna-funktio korvaa puuttuvat arvot nollilla\n",
        "sns.barplot(data=df[list].fillna(0), estimator=sum)\n",
        "\n",
        "plt.ylabel('lukumäärä')"
      ]
    },
    {
      "cell_type": "markdown",
      "id": "05347321",
      "metadata": {
        "id": "05347321"
      },
      "source": [
        "## Puuttuvat havainnot\n",
        "\n",
        "Muuttuja *työtov* (tyytyväisyys työtovereihin) mitattiin 5-portaisella asteikolla (1=erittäin tyytymätön, 5=erittäin tyytyväinen). Yhdeltä henkilöltä puuttui vastaus tähän kysymykseen. Kokonaislukutyyppiselle muuttujalla (int) ei sallita puuttuvia arvoja, joten tämä muuttuja on liukulukutyyppinen (float) toisin kuin muut tyytyväisyysmuuttujat. Tämä ei yleensä analysoinnin kannalta aiheuta mitään ongelmia eikä sitä mitenkään erikseen tarvitse huomioida.\n",
        "\n",
        "Huomiota vaativa ongelma on se, että kukaan ei ollut *erittäin tyytymätön* työtovereihin eli vastausvaihtoehtoa 1 ei ole kukaan valinnut. Se puuttuu myös frekvenssitaulukosta. Olisi kuitenkin hyvä näyttää kyseinen vaihtoehto frekvenssitaulukossa.\n",
        "\n",
        "Tämä onnistuu vaihtamalla muuttujan tyypiksi **category**."
      ]
    },
    {
      "cell_type": "code",
      "execution_count": null,
      "id": "db7e69d1",
      "metadata": {
        "id": "db7e69d1",
        "outputId": "9e6d1320-0a45-465a-f91c-e664d4576242",
        "colab": {
          "base_uri": "https://localhost:8080/",
          "height": 206
        }
      },
      "outputs": [
        {
          "output_type": "execute_result",
          "data": {
            "text/plain": [
              "<pandas.io.formats.style.Styler at 0x7ad665382620>"
            ],
            "text/html": [
              "<style type=\"text/css\">\n",
              "</style>\n",
              "<table id=\"T_528ac\" class=\"dataframe\">\n",
              "  <thead>\n",
              "    <tr>\n",
              "      <th class=\"index_name level0\" ></th>\n",
              "      <th id=\"T_528ac_level0_col0\" class=\"col_heading level0 col0\" >f</th>\n",
              "      <th id=\"T_528ac_level0_col1\" class=\"col_heading level0 col1\" >%</th>\n",
              "    </tr>\n",
              "    <tr>\n",
              "      <th class=\"index_name level0\" >työtov</th>\n",
              "      <th class=\"blank col0\" >&nbsp;</th>\n",
              "      <th class=\"blank col1\" >&nbsp;</th>\n",
              "    </tr>\n",
              "  </thead>\n",
              "  <tbody>\n",
              "    <tr>\n",
              "      <th id=\"T_528ac_level0_row0\" class=\"row_heading level0 row0\" >2.000000</th>\n",
              "      <td id=\"T_528ac_row0_col0\" class=\"data row0 col0\" >3</td>\n",
              "      <td id=\"T_528ac_row0_col1\" class=\"data row0 col1\" >3.7 %</td>\n",
              "    </tr>\n",
              "    <tr>\n",
              "      <th id=\"T_528ac_level0_row1\" class=\"row_heading level0 row1\" >3.000000</th>\n",
              "      <td id=\"T_528ac_row1_col0\" class=\"data row1 col0\" >16</td>\n",
              "      <td id=\"T_528ac_row1_col1\" class=\"data row1 col1\" >19.8 %</td>\n",
              "    </tr>\n",
              "    <tr>\n",
              "      <th id=\"T_528ac_level0_row2\" class=\"row_heading level0 row2\" >4.000000</th>\n",
              "      <td id=\"T_528ac_row2_col0\" class=\"data row2 col0\" >35</td>\n",
              "      <td id=\"T_528ac_row2_col1\" class=\"data row2 col1\" >43.2 %</td>\n",
              "    </tr>\n",
              "    <tr>\n",
              "      <th id=\"T_528ac_level0_row3\" class=\"row_heading level0 row3\" >5.000000</th>\n",
              "      <td id=\"T_528ac_row3_col0\" class=\"data row3 col0\" >27</td>\n",
              "      <td id=\"T_528ac_row3_col1\" class=\"data row3 col1\" >33.3 %</td>\n",
              "    </tr>\n",
              "  </tbody>\n",
              "</table>\n"
            ]
          },
          "metadata": {},
          "execution_count": 10
        }
      ],
      "source": [
        "# Tässä ei näy arvoa 1.0 (erittäin tyytymätön), koska kukaan ei sitä valinnut\n",
        "df3 = pd.crosstab(df['työtov'], 'f')\n",
        "\n",
        "df3.columns.name = ''\n",
        "df3['%'] = df3['f']/df3['f'].sum()*100\n",
        "\n",
        "df3.style.format(format)"
      ]
    },
    {
      "cell_type": "code",
      "execution_count": null,
      "id": "d5d1f2c2",
      "metadata": {
        "id": "d5d1f2c2"
      },
      "outputs": [],
      "source": [
        "# Teen uuden muuttujan, jonka tyyppi on category\n",
        "df['työtov_cat'] = pd.Categorical(df['työtov'], categories=[1, 2, 3, 4, 5], ordered=True)"
      ]
    },
    {
      "cell_type": "code",
      "execution_count": null,
      "id": "7124dca6",
      "metadata": {
        "id": "7124dca6",
        "outputId": "aafefab0-9f27-48aa-dc36-e57c09ff5afa",
        "colab": {
          "base_uri": "https://localhost:8080/",
          "height": 206
        }
      },
      "outputs": [
        {
          "output_type": "execute_result",
          "data": {
            "text/plain": [
              "<pandas.io.formats.style.Styler at 0x7ad661e20610>"
            ],
            "text/html": [
              "<style type=\"text/css\">\n",
              "</style>\n",
              "<table id=\"T_5d316\" class=\"dataframe\">\n",
              "  <thead>\n",
              "    <tr>\n",
              "      <th class=\"index_name level0\" ></th>\n",
              "      <th id=\"T_5d316_level0_col0\" class=\"col_heading level0 col0\" >f</th>\n",
              "      <th id=\"T_5d316_level0_col1\" class=\"col_heading level0 col1\" >%</th>\n",
              "    </tr>\n",
              "  </thead>\n",
              "  <tbody>\n",
              "    <tr>\n",
              "      <th id=\"T_5d316_level0_row0\" class=\"row_heading level0 row0\" >erittäin tyytymätön</th>\n",
              "      <td id=\"T_5d316_row0_col0\" class=\"data row0 col0\" >0</td>\n",
              "      <td id=\"T_5d316_row0_col1\" class=\"data row0 col1\" >0.0 %</td>\n",
              "    </tr>\n",
              "    <tr>\n",
              "      <th id=\"T_5d316_level0_row1\" class=\"row_heading level0 row1\" >tyytymätön</th>\n",
              "      <td id=\"T_5d316_row1_col0\" class=\"data row1 col0\" >3</td>\n",
              "      <td id=\"T_5d316_row1_col1\" class=\"data row1 col1\" >3.7 %</td>\n",
              "    </tr>\n",
              "    <tr>\n",
              "      <th id=\"T_5d316_level0_row2\" class=\"row_heading level0 row2\" >siltä väliltä</th>\n",
              "      <td id=\"T_5d316_row2_col0\" class=\"data row2 col0\" >16</td>\n",
              "      <td id=\"T_5d316_row2_col1\" class=\"data row2 col1\" >19.8 %</td>\n",
              "    </tr>\n",
              "    <tr>\n",
              "      <th id=\"T_5d316_level0_row3\" class=\"row_heading level0 row3\" >tyytyväinen</th>\n",
              "      <td id=\"T_5d316_row3_col0\" class=\"data row3 col0\" >35</td>\n",
              "      <td id=\"T_5d316_row3_col1\" class=\"data row3 col1\" >43.2 %</td>\n",
              "    </tr>\n",
              "    <tr>\n",
              "      <th id=\"T_5d316_level0_row4\" class=\"row_heading level0 row4\" >erittäin tyytyväinen</th>\n",
              "      <td id=\"T_5d316_row4_col0\" class=\"data row4 col0\" >27</td>\n",
              "      <td id=\"T_5d316_row4_col1\" class=\"data row4 col1\" >33.3 %</td>\n",
              "    </tr>\n",
              "  </tbody>\n",
              "</table>\n"
            ]
          },
          "metadata": {},
          "execution_count": 12
        }
      ],
      "source": [
        "# dropna-parametrin ansiosta myös 'erittäin tyytymätön' tulee frekvenssitaulukkoon mukaan\n",
        "# Joissain versioissa tarvitaan puuttuvien havaintojen poisto dropna()\n",
        "df4 = pd.crosstab(df['työtov_cat'].dropna(), 'f', dropna=False)\n",
        "\n",
        "df4.columns.name = ''\n",
        "df4.index = tyytyväisyys\n",
        "df4['%'] = df4['f']/df4['f'].sum()*100\n",
        "\n",
        "df4.style.format(format)"
      ]
    },
    {
      "cell_type": "code",
      "execution_count": null,
      "id": "2bd09ce8",
      "metadata": {
        "id": "2bd09ce8",
        "outputId": "e875016e-2e6a-4cf0-c902-7243541cc6a6",
        "colab": {
          "base_uri": "https://localhost:8080/",
          "height": 523
        }
      },
      "outputs": [
        {
          "output_type": "display_data",
          "data": {
            "text/plain": [
              "<Figure size 640x480 with 1 Axes>"
            ],
            "image/png": "[encoded data removed]"
          },
          "metadata": {}
        }
      ],
      "source": [
        "# Kaavio frekvenssitaulukon prosenteista\n",
        "\n",
        "df4['%'].plot(kind='bar', width=0.8, rot=45)\n",
        "\n",
        "plt.ylabel(f'prosenttia (n = {df4[\"f\"].sum()})')\n",
        "plt.gca().yaxis.set_major_formatter(ticks)\n",
        "plt.grid(axis='x')"
      ]
    },
    {
      "cell_type": "markdown",
      "id": "1a6397c6",
      "metadata": {
        "id": "1a6397c6"
      },
      "source": [
        "## Usean kaavion kuvio\n",
        "\n",
        "**For**-toistorakennetta käyttäen voin esittää usean muuttujan jakaumat yhdessä kuviossa, joka sisältää monta kaaviota.\n",
        "\n",
        "Komento `fig, axs = plt.subplots(nrows=1, ncols=5, sharey=True, figsize=(12, 3))` luo kuvion, jossa on 5 kaaviota vierekkäin (ncols=5) ja kaavioilla on yhteinen y-akseli (sharey=True). Komento palauttaa sekä kuvion (fig) että sen sisältämien kaavioiden listan (axs).\n",
        "\n",
        "**Enumerate**-funktio palauttaa sekä tyytyväisyydet-listan muuttujien järjestysnumerot (i) että muuttujien nimet (var). Järjestysnumeroita tarvitaan osoittamaan mihin kaavioon mikäkin muuttuja sijoitetaan (`ax=axs[i]`)."
      ]
    },
    {
      "cell_type": "code",
      "execution_count": null,
      "id": "93f9e558",
      "metadata": {
        "id": "93f9e558",
        "outputId": "2a98d15f-590c-4883-9459-00009693a095",
        "colab": {
          "base_uri": "https://localhost:8080/",
          "height": 328
        }
      },
      "outputs": [
        {
          "output_type": "execute_result",
          "data": {
            "text/plain": [
              "Text(0, 0.5, 'lukumäärä')"
            ]
          },
          "metadata": {},
          "execution_count": 14
        },
        {
          "output_type": "display_data",
          "data": {
            "text/plain": [
              "<Figure size 1200x300 with 5 Axes>"
            ],
            "image/png": "[encoded data removed]"
          },
          "metadata": {}
        }
      ],
      "source": [
        "tyytyväisyydet = ['johto', 'työtov_cat', 'työymp', 'palkkat', 'työteht']\n",
        "\n",
        "fig, axs = plt.subplots(nrows=1, ncols=5, sharey=True, figsize=(12, 3))\n",
        "\n",
        "for i, var in enumerate(tyytyväisyydet):\n",
        "    sns.countplot(data=df, x=var, ax=axs[i])\n",
        "    axs[i].set_ylabel('')\n",
        "\n",
        "# Otsikko ensimmäisen kaavion y-akselille\n",
        "axs[0].set_ylabel('lukumäärä')"
      ]
    },
    {
      "cell_type": "markdown",
      "id": "9f98796d",
      "metadata": {
        "id": "9f98796d"
      },
      "source": [
        "## Luokiteltu jakauma\n",
        "\n",
        "Määrällisen muuttujan voin luokitella pandas-kirjaston **cut**-funktiolla. Oletuksena luokat eivät sisällä luokan alarajaa, mutta sisältävät ylärajan.\n",
        "\n",
        "**Histplot**-funktio tuottaa luokituksen, jossa luokat sisältävät alarajan, mutta eivät ylärajaa.\n",
        "\n",
        "Jos haluan cut-funktion tuottamien luokkien olevan yhdenmukaisia histogrammin kanssa, käytän cut-funktion yhteydessä parametria `right=False`. Tämänkin jälkeen voi tulla eroa viimeisen luokan ylärajan kohdalla, joka histogrammissa sisältyy luokkaan."
      ]
    },
    {
      "cell_type": "code",
      "execution_count": null,
      "id": "47bc381e",
      "metadata": {
        "id": "47bc381e",
        "outputId": "dfe47a43-f764-4f9e-f245-d1ef854047fc",
        "colab": {
          "base_uri": "https://localhost:8080/",
          "height": 237
        }
      },
      "outputs": [
        {
          "output_type": "execute_result",
          "data": {
            "text/plain": [
              "<pandas.io.formats.style.Styler at 0x7ad661eca800>"
            ],
            "text/html": [
              "<style type=\"text/css\">\n",
              "</style>\n",
              "<table id=\"T_887ee\" class=\"dataframe\">\n",
              "  <thead>\n",
              "    <tr>\n",
              "      <th class=\"index_name level0\" ></th>\n",
              "      <th id=\"T_887ee_level0_col0\" class=\"col_heading level0 col0\" >f</th>\n",
              "      <th id=\"T_887ee_level0_col1\" class=\"col_heading level0 col1\" >%</th>\n",
              "    </tr>\n",
              "    <tr>\n",
              "      <th class=\"index_name level0\" >ikäluokka</th>\n",
              "      <th class=\"blank col0\" >&nbsp;</th>\n",
              "      <th class=\"blank col1\" >&nbsp;</th>\n",
              "    </tr>\n",
              "  </thead>\n",
              "  <tbody>\n",
              "    <tr>\n",
              "      <th id=\"T_887ee_level0_row0\" class=\"row_heading level0 row0\" >[19, 29)</th>\n",
              "      <td id=\"T_887ee_row0_col0\" class=\"data row0 col0\" >14</td>\n",
              "      <td id=\"T_887ee_row0_col1\" class=\"data row0 col1\" >17.1 %</td>\n",
              "    </tr>\n",
              "    <tr>\n",
              "      <th id=\"T_887ee_level0_row1\" class=\"row_heading level0 row1\" >[29, 39)</th>\n",
              "      <td id=\"T_887ee_row1_col0\" class=\"data row1 col0\" >30</td>\n",
              "      <td id=\"T_887ee_row1_col1\" class=\"data row1 col1\" >36.6 %</td>\n",
              "    </tr>\n",
              "    <tr>\n",
              "      <th id=\"T_887ee_level0_row2\" class=\"row_heading level0 row2\" >[39, 49)</th>\n",
              "      <td id=\"T_887ee_row2_col0\" class=\"data row2 col0\" >25</td>\n",
              "      <td id=\"T_887ee_row2_col1\" class=\"data row2 col1\" >30.5 %</td>\n",
              "    </tr>\n",
              "    <tr>\n",
              "      <th id=\"T_887ee_level0_row3\" class=\"row_heading level0 row3\" >[49, 59)</th>\n",
              "      <td id=\"T_887ee_row3_col0\" class=\"data row3 col0\" >11</td>\n",
              "      <td id=\"T_887ee_row3_col1\" class=\"data row3 col1\" >13.4 %</td>\n",
              "    </tr>\n",
              "    <tr>\n",
              "      <th id=\"T_887ee_level0_row4\" class=\"row_heading level0 row4\" >[59, 69)</th>\n",
              "      <td id=\"T_887ee_row4_col0\" class=\"data row4 col0\" >2</td>\n",
              "      <td id=\"T_887ee_row4_col1\" class=\"data row4 col1\" >2.4 %</td>\n",
              "    </tr>\n",
              "  </tbody>\n",
              "</table>\n"
            ]
          },
          "metadata": {},
          "execution_count": 15
        }
      ],
      "source": [
        "bins = [19, 29, 39, 49, 59, 69]\n",
        "df['ikäluokka'] = pd.cut(df['ikä'], bins=bins, right=False)\n",
        "\n",
        "df5 = pd.crosstab(df['ikäluokka'], 'f')\n",
        "\n",
        "df5.columns.name = ''\n",
        "df5['%'] = df5['f']/df5['f'].sum()*100\n",
        "\n",
        "df5.style.format(format)"
      ]
    },
    {
      "cell_type": "code",
      "execution_count": null,
      "id": "88edd993",
      "metadata": {
        "id": "88edd993",
        "outputId": "a4f89e22-613a-49c6-e69b-108ed68e6906",
        "colab": {
          "base_uri": "https://localhost:8080/",
          "height": 657
        }
      },
      "outputs": [
        {
          "output_type": "execute_result",
          "data": {
            "text/plain": [
              "([<matplotlib.axis.XTick at 0x7ad661bbe020>,\n",
              "  <matplotlib.axis.XTick at 0x7ad661bbdff0>,\n",
              "  <matplotlib.axis.XTick at 0x7ad661b68550>,\n",
              "  <matplotlib.axis.XTick at 0x7ad661beab90>,\n",
              "  <matplotlib.axis.XTick at 0x7ad661beb640>,\n",
              "  <matplotlib.axis.XTick at 0x7ad661bebd90>],\n",
              " [Text(19, 0, '19'),\n",
              "  Text(29, 0, '29'),\n",
              "  Text(39, 0, '39'),\n",
              "  Text(49, 0, '49'),\n",
              "  Text(59, 0, '59'),\n",
              "  Text(69, 0, '69')])"
            ]
          },
          "metadata": {},
          "execution_count": 16
        },
        {
          "output_type": "display_data",
          "data": {
            "text/plain": [
              "<Figure size 640x480 with 1 Axes>"
            ],
            "image/png": "[encoded data removed]"
          },
          "metadata": {}
        }
      ],
      "source": [
        "# Histogrammi luokitellun jakauman havainnollistamiseen\n",
        "sns.histplot(df['ikä'], bins=bins)\n",
        "\n",
        "plt.ylabel(f'lukumäärä (n = {df[\"ikä\"].count()})')\n",
        "\n",
        "# x-akselille luokkien rajakohdat\n",
        "plt.xticks(bins)"
      ]
    },
    {
      "cell_type": "code",
      "execution_count": null,
      "id": "d81f6303",
      "metadata": {
        "id": "d81f6303",
        "outputId": "f47d71e4-e6bf-4478-9bbd-bef7a34f3bd8",
        "colab": {
          "base_uri": "https://localhost:8080/",
          "height": 449
        }
      },
      "outputs": [
        {
          "output_type": "display_data",
          "data": {
            "text/plain": [
              "<Figure size 640x480 with 1 Axes>"
            ],
            "image/png": "[encoded data removed]"
          },
          "metadata": {}
        }
      ],
      "source": [
        "# Prosentit histplot-kaavioon\n",
        "\n",
        "sns.histplot(df['ikä'], stat='percent', bins=bins)\n",
        "\n",
        "plt.xlabel('ikä')\n",
        "plt.ylabel(f'% (n = {df[\"ikä\"].count()})')\n",
        "plt.xticks(bins)\n",
        "plt.gca().yaxis.set_major_formatter(ticks)"
      ]
    },
    {
      "cell_type": "markdown",
      "id": "59280d1b",
      "metadata": {
        "id": "59280d1b"
      },
      "source": [
        "## Tilastolliset tunnusluvut\n",
        "\n",
        "Tilastolliset tunnusluvut voin laskea **describe**-funktiolla.\n",
        "\n",
        "Seabornin **Boxplot** on hyvä tapa havainnollistaa tunnuslukuja (pienin, alaneljännes, mediaani, yläneljännes, suurin).\n",
        "\n",
        "Usean muuttujan keskiarvojen havainnollistamiseen sopii seabornin **barplot**, joka esittää oletuksena keskiarvot pylväinä ja näyttää myös virhemarginaalit."
      ]
    },
    {
      "cell_type": "code",
      "execution_count": null,
      "id": "a88975c2",
      "metadata": {
        "id": "a88975c2",
        "outputId": "eed42aa8-a7e0-49a9-d960-5a94fc54a33d",
        "colab": {
          "base_uri": "https://localhost:8080/"
        }
      },
      "outputs": [
        {
          "output_type": "execute_result",
          "data": {
            "text/plain": [
              "count      82.000000\n",
              "mean     2563.878049\n",
              "std       849.350302\n",
              "min      1521.000000\n",
              "25%      2027.000000\n",
              "50%      2320.000000\n",
              "75%      2808.000000\n",
              "max      6278.000000\n",
              "Name: palkka, dtype: float64"
            ]
          },
          "metadata": {},
          "execution_count": 18
        }
      ],
      "source": [
        "# Palkan tunnuslukuja\n",
        "df['palkka'].describe()"
      ]
    },
    {
      "cell_type": "code",
      "execution_count": null,
      "id": "eaa68cab",
      "metadata": {
        "id": "eaa68cab",
        "outputId": "8590855d-5717-4d31-8001-aba1c04ce371",
        "colab": {
          "base_uri": "https://localhost:8080/",
          "height": 466
        }
      },
      "outputs": [
        {
          "output_type": "execute_result",
          "data": {
            "text/plain": [
              "<Axes: xlabel='palkka'>"
            ]
          },
          "metadata": {},
          "execution_count": 19
        },
        {
          "output_type": "display_data",
          "data": {
            "text/plain": [
              "<Figure size 640x480 with 1 Axes>"
            ],
            "image/png": "[encoded data removed]"
          },
          "metadata": {}
        }
      ],
      "source": [
        "# Boxplot palkalle\n",
        "sns.boxplot(data=df, x='palkka')"
      ]
    },
    {
      "cell_type": "code",
      "execution_count": null,
      "id": "f5ec6d5e",
      "metadata": {
        "id": "f5ec6d5e",
        "outputId": "741b423b-a0e9-497d-c34c-38994354041d",
        "colab": {
          "base_uri": "https://localhost:8080/",
          "height": 300
        }
      },
      "outputs": [
        {
          "output_type": "execute_result",
          "data": {
            "text/plain": [
              "           johto     työtov     työymp    palkkat    työteht\n",
              "count  82.000000  81.000000  82.000000  82.000000  82.000000\n",
              "mean    3.060976   4.061728   3.219512   2.109756   3.195122\n",
              "std     1.058155   0.826826   1.154961   1.111179   1.047502\n",
              "min     1.000000   2.000000   1.000000   1.000000   1.000000\n",
              "25%     2.000000   4.000000   3.000000   1.000000   3.000000\n",
              "50%     3.000000   4.000000   3.000000   2.000000   3.000000\n",
              "75%     4.000000   5.000000   4.000000   3.000000   4.000000\n",
              "max     5.000000   5.000000   5.000000   5.000000   5.000000"
            ],
            "text/html": [
              "\n",
              "  <div id=\"df-8c61a254-3f85-4c49-b385-246938fb6ab9\" class=\"colab-df-container\">\n",
              "    <div>\n",
              "<style scoped>\n",
              "    .dataframe tbody tr th:only-of-type {\n",
              "        vertical-align: middle;\n",
              "    }\n",
              "\n",
              "    .dataframe tbody tr th {\n",
              "        vertical-align: top;\n",
              "    }\n",
              "\n",
              "    .dataframe thead th {\n",
              "        text-align: right;\n",
              "    }\n",
              "</style>\n",
              "<table border=\"1\" class=\"dataframe\">\n",
              "  <thead>\n",
              "    <tr style=\"text-align: right;\">\n",
              "      <th></th>\n",
              "      <th>johto</th>\n",
              "      <th>työtov</th>\n",
              "      <th>työymp</th>\n",
              "      <th>palkkat</th>\n",
              "      <th>työteht</th>\n",
              "    </tr>\n",
              "  </thead>\n",
              "  <tbody>\n",
              "    <tr>\n",
              "      <th>count</th>\n",
              "      <td>82.000000</td>\n",
              "      <td>81.000000</td>\n",
              "      <td>82.000000</td>\n",
              "      <td>82.000000</td>\n",
              "      <td>82.000000</td>\n",
              "    </tr>\n",
              "    <tr>\n",
              "      <th>mean</th>\n",
              "      <td>3.060976</td>\n",
              "      <td>4.061728</td>\n",
              "      <td>3.219512</td>\n",
              "      <td>2.109756</td>\n",
              "      <td>3.195122</td>\n",
              "    </tr>\n",
              "    <tr>\n",
              "      <th>std</th>\n",
              "      <td>1.058155</td>\n",
              "      <td>0.826826</td>\n",
              "      <td>1.154961</td>\n",
              "      <td>1.111179</td>\n",
              "      <td>1.047502</td>\n",
              "    </tr>\n",
              "    <tr>\n",
              "      <th>min</th>\n",
              "      <td>1.000000</td>\n",
              "      <td>2.000000</td>\n",
              "      <td>1.000000</td>\n",
              "      <td>1.000000</td>\n",
              "      <td>1.000000</td>\n",
              "    </tr>\n",
              "    <tr>\n",
              "      <th>25%</th>\n",
              "      <td>2.000000</td>\n",
              "      <td>4.000000</td>\n",
              "      <td>3.000000</td>\n",
              "      <td>1.000000</td>\n",
              "      <td>3.000000</td>\n",
              "    </tr>\n",
              "    <tr>\n",
              "      <th>50%</th>\n",
              "      <td>3.000000</td>\n",
              "      <td>4.000000</td>\n",
              "      <td>3.000000</td>\n",
              "      <td>2.000000</td>\n",
              "      <td>3.000000</td>\n",
              "    </tr>\n",
              "    <tr>\n",
              "      <th>75%</th>\n",
              "      <td>4.000000</td>\n",
              "      <td>5.000000</td>\n",
              "      <td>4.000000</td>\n",
              "      <td>3.000000</td>\n",
              "      <td>4.000000</td>\n",
              "    </tr>\n",
              "    <tr>\n",
              "      <th>max</th>\n",
              "      <td>5.000000</td>\n",
              "      <td>5.000000</td>\n",
              "      <td>5.000000</td>\n",
              "      <td>5.000000</td>\n",
              "      <td>5.000000</td>\n",
              "    </tr>\n",
              "  </tbody>\n",
              "</table>\n",
              "</div>\n",
              "    <div class=\"colab-df-buttons\">\n",
              "\n",
              "  <div class=\"colab-df-container\">\n",
              "    <button class=\"colab-df-convert\" onclick=\"convertToInteractive('df-8c61a254-3f85-4c49-b385-246938fb6ab9')\"\n",
              "            title=\"Convert this dataframe to an interactive table.\"\n",
              "            style=\"display:none;\">\n",
              "\n",
              "  <svg xmlns=\"http://www.w3.org/2000/svg\" height=\"24px\" viewBox=\"0 -960 960 960\">\n",
              "    <path d=\"M120-120v-720h720v720H120Zm60-500h600v-160H180v160Zm220 220h160v-160H400v160Zm0 220h160v-160H400v160ZM180-400h160v-160H180v160Zm440 0h160v-160H620v160ZM180-180h160v-160H180v160Zm440 0h160v-160H620v160Z\"/>\n",
              "  </svg>\n",
              "    </button>\n",
              "\n",
              "  <style>\n",
              "    .colab-df-container {\n",
              "      display:flex;\n",
              "      gap: 12px;\n",
              "    }\n",
              "\n",
              "    .colab-df-convert {\n",
              "      background-color: #E8F0FE;\n",
              "      border: none;\n",
              "      border-radius: 50%;\n",
              "      cursor: pointer;\n",
              "      display: none;\n",
              "      fill: #1967D2;\n",
              "      height: 32px;\n",
              "      padding: 0 0 0 0;\n",
              "      width: 32px;\n",
              "    }\n",
              "\n",
              "    .colab-df-convert:hover {\n",
              "      background-color: #E2EBFA;\n",
              "      box-shadow: 0px 1px 2px rgba(60, 64, 67, 0.3), 0px 1px 3px 1px rgba(60, 64, 67, 0.15);\n",
              "      fill: #174EA6;\n",
              "    }\n",
              "\n",
              "    .colab-df-buttons div {\n",
              "      margin-bottom: 4px;\n",
              "    }\n",
              "\n",
              "    [theme=dark] .colab-df-convert {\n",
              "      background-color: #3B4455;\n",
              "      fill: #D2E3FC;\n",
              "    }\n",
              "\n",
              "    [theme=dark] .colab-df-convert:hover {\n",
              "      background-color: #434B5C;\n",
              "      box-shadow: 0px 1px 3px 1px rgba(0, 0, 0, 0.15);\n",
              "      filter: drop-shadow(0px 1px 2px rgba(0, 0, 0, 0.3));\n",
              "      fill: #FFFFFF;\n",
              "    }\n",
              "  </style>\n",
              "\n",
              "    <script>\n",
              "      const buttonEl =\n",
              "        document.querySelector('#df-8c61a254-3f85-4c49-b385-246938fb6ab9 button.colab-df-convert');\n",
              "      buttonEl.style.display =\n",
              "        google.colab.kernel.accessAllowed ? 'block' : 'none';\n",
              "\n",
              "      async function convertToInteractive(key) {\n",
              "        const element = document.querySelector('#df-8c61a254-3f85-4c49-b385-246938fb6ab9');\n",
              "        const dataTable =\n",
              "          await google.colab.kernel.invokeFunction('convertToInteractive',\n",
              "                                                    [key], {});\n",
              "        if (!dataTable) return;\n",
              "\n",
              "        const docLinkHtml = 'Like what you see? Visit the ' +\n",
              "          '<a target=\"_blank\" href=https://colab.research.google.com/notebooks/data_table.ipynb>data table notebook</a>'\n",
              "          + ' to learn more about interactive tables.';\n",
              "        element.innerHTML = '';\n",
              "        dataTable['output_type'] = 'display_data';\n",
              "        await google.colab.output.renderOutput(dataTable, element);\n",
              "        const docLink = document.createElement('div');\n",
              "        docLink.innerHTML = docLinkHtml;\n",
              "        element.appendChild(docLink);\n",
              "      }\n",
              "    </script>\n",
              "  </div>\n",
              "\n",
              "\n",
              "<div id=\"df-e15e68a8-8cfd-40e0-91be-86b98734dfb5\">\n",
              "  <button class=\"colab-df-quickchart\" onclick=\"quickchart('df-e15e68a8-8cfd-40e0-91be-86b98734dfb5')\"\n",
              "            title=\"Suggest charts\"\n",
              "            style=\"display:none;\">\n",
              "\n",
              "<svg xmlns=\"http://www.w3.org/2000/svg\" height=\"24px\"viewBox=\"0 0 24 24\"\n",
              "     width=\"24px\">\n",
              "    <g>\n",
              "        <path d=\"M19 3H5c-1.1 0-2 .9-2 2v14c0 1.1.9 2 2 2h14c1.1 0 2-.9 2-2V5c0-1.1-.9-2-2-2zM9 17H7v-7h2v7zm4 0h-2V7h2v10zm4 0h-2v-4h2v4z\"/>\n",
              "    </g>\n",
              "</svg>\n",
              "  </button>\n",
              "\n",
              "<style>\n",
              "  .colab-df-quickchart {\n",
              "      --bg-color: #E8F0FE;\n",
              "      --fill-color: #1967D2;\n",
              "      --hover-bg-color: #E2EBFA;\n",
              "      --hover-fill-color: #174EA6;\n",
              "      --disabled-fill-color: #AAA;\n",
              "      --disabled-bg-color: #DDD;\n",
              "  }\n",
              "\n",
              "  [theme=dark] .colab-df-quickchart {\n",
              "      --bg-color: #3B4455;\n",
              "      --fill-color: #D2E3FC;\n",
              "      --hover-bg-color: #434B5C;\n",
              "      --hover-fill-color: #FFFFFF;\n",
              "      --disabled-bg-color: #3B4455;\n",
              "      --disabled-fill-color: #666;\n",
              "  }\n",
              "\n",
              "  .colab-df-quickchart {\n",
              "    background-color: var(--bg-color);\n",
              "    border: none;\n",
              "    border-radius: 50%;\n",
              "    cursor: pointer;\n",
              "    display: none;\n",
              "    fill: var(--fill-color);\n",
              "    height: 32px;\n",
              "    padding: 0;\n",
              "    width: 32px;\n",
              "  }\n",
              "\n",
              "  .colab-df-quickchart:hover {\n",
              "    background-color: var(--hover-bg-color);\n",
              "    box-shadow: 0 1px 2px rgba(60, 64, 67, 0.3), 0 1px 3px 1px rgba(60, 64, 67, 0.15);\n",
              "    fill: var(--button-hover-fill-color);\n",
              "  }\n",
              "\n",
              "  .colab-df-quickchart-complete:disabled,\n",
              "  .colab-df-quickchart-complete:disabled:hover {\n",
              "    background-color: var(--disabled-bg-color);\n",
              "    fill: var(--disabled-fill-color);\n",
              "    box-shadow: none;\n",
              "  }\n",
              "\n",
              "  .colab-df-spinner {\n",
              "    border: 2px solid var(--fill-color);\n",
              "    border-color: transparent;\n",
              "    border-bottom-color: var(--fill-color);\n",
              "    animation:\n",
              "      spin 1s steps(1) infinite;\n",
              "  }\n",
              "\n",
              "  @keyframes spin {\n",
              "    0% {\n",
              "      border-color: transparent;\n",
              "      border-bottom-color: var(--fill-color);\n",
              "      border-left-color: var(--fill-color);\n",
              "    }\n",
              "    20% {\n",
              "      border-color: transparent;\n",
              "      border-left-color: var(--fill-color);\n",
              "      border-top-color: var(--fill-color);\n",
              "    }\n",
              "    30% {\n",
              "      border-color: transparent;\n",
              "      border-left-color: var(--fill-color);\n",
              "      border-top-color: var(--fill-color);\n",
              "      border-right-color: var(--fill-color);\n",
              "    }\n",
              "    40% {\n",
              "      border-color: transparent;\n",
              "      border-right-color: var(--fill-color);\n",
              "      border-top-color: var(--fill-color);\n",
              "    }\n",
              "    60% {\n",
              "      border-color: transparent;\n",
              "      border-right-color: var(--fill-color);\n",
              "    }\n",
              "    80% {\n",
              "      border-color: transparent;\n",
              "      border-right-color: var(--fill-color);\n",
              "      border-bottom-color: var(--fill-color);\n",
              "    }\n",
              "    90% {\n",
              "      border-color: transparent;\n",
              "      border-bottom-color: var(--fill-color);\n",
              "    }\n",
              "  }\n",
              "</style>\n",
              "\n",
              "  <script>\n",
              "    async function quickchart(key) {\n",
              "      const quickchartButtonEl =\n",
              "        document.querySelector('#' + key + ' button');\n",
              "      quickchartButtonEl.disabled = true;  // To prevent multiple clicks.\n",
              "      quickchartButtonEl.classList.add('colab-df-spinner');\n",
              "      try {\n",
              "        const charts = await google.colab.kernel.invokeFunction(\n",
              "            'suggestCharts', [key], {});\n",
              "      } catch (error) {\n",
              "        console.error('Error during call to suggestCharts:', error);\n",
              "      }\n",
              "      quickchartButtonEl.classList.remove('colab-df-spinner');\n",
              "      quickchartButtonEl.classList.add('colab-df-quickchart-complete');\n",
              "    }\n",
              "    (() => {\n",
              "      let quickchartButtonEl =\n",
              "        document.querySelector('#df-e15e68a8-8cfd-40e0-91be-86b98734dfb5 button');\n",
              "      quickchartButtonEl.style.display =\n",
              "        google.colab.kernel.accessAllowed ? 'block' : 'none';\n",
              "    })();\n",
              "  </script>\n",
              "</div>\n",
              "    </div>\n",
              "  </div>\n"
            ]
          },
          "metadata": {},
          "execution_count": 20
        }
      ],
      "source": [
        "# Tunnuslukuja tyytyväisyyksille\n",
        "df.loc[:, 'johto':'työteht'].describe()"
      ]
    },
    {
      "cell_type": "code",
      "execution_count": null,
      "id": "4ae5023d",
      "metadata": {
        "id": "4ae5023d",
        "outputId": "f1b766bb-8036-403e-c96c-af2a8452c1e0",
        "colab": {
          "base_uri": "https://localhost:8080/",
          "height": 466
        }
      },
      "outputs": [
        {
          "output_type": "execute_result",
          "data": {
            "text/plain": [
              "Text(0.5, 0, 'tyytyväisyyskeskiarvo (5 = erittäin tyytyväinen)')"
            ]
          },
          "metadata": {},
          "execution_count": 21
        },
        {
          "output_type": "display_data",
          "data": {
            "text/plain": [
              "<Figure size 640x480 with 1 Axes>"
            ],
            "image/png": "[encoded data removed]"
          },
          "metadata": {}
        }
      ],
      "source": [
        "# Tyytyväisyysmuuttujien lista keskiarvon mukaisessa järjestyksessä\n",
        "list1 = df.loc[:,'johto':'työteht'].mean().sort_values().index\n",
        "\n",
        "# Keskiarvoja kuvaavat pylväät ja virhemarginaalit\n",
        "sns.barplot(data=df[list1], orient='h')\n",
        "\n",
        "# x-akselin skaalaus (pienin arvo 1, suurin arvo 5)\n",
        "plt.xlim(1, 5)\n",
        "\n",
        "plt.xlabel('tyytyväisyyskeskiarvo (5 = erittäin tyytyväinen)')"
      ]
    },
    {
      "cell_type": "markdown",
      "source": [
        "Jos datan avaaminen antaa virheilmoituksen, niin data-kansion kytkeminen Colabiin ei ole onnistunut tai hatco.xlsx-tiedostoa ei ole data-kansiossa.\n",
        "\n",
        "Voit vaihtoehtoisesti avata tiedoston netistä komennolla `df = pd.read_excel('https://taanila.fi/hatco.xlsx')`"
      ],
      "metadata": {
        "id": "B_ynclHJYA02"
      },
      "id": "B_ynclHJYA02"
    },
    {
      "cell_type": "code",
      "execution_count": null,
      "id": "24f484a0",
      "metadata": {
        "id": "24f484a0",
        "outputId": "979186a8-7250-48ec-8366-3052b9f0d256",
        "colab": {
          "base_uri": "https://localhost:8080/",
          "height": 458
        }
      },
      "outputs": [
        {
          "output_type": "execute_result",
          "data": {
            "text/plain": [
              "     id  Delivery Speed  Price Level  Price Flexibility  Manufacturer Image  \\\n",
              "0     1             4.1          0.6                6.9                 4.7   \n",
              "1     2             1.8          3.0                6.3                 6.6   \n",
              "2     3             3.4          5.2                5.7                 6.0   \n",
              "3     4             2.7          1.0                7.1                 5.9   \n",
              "4     5             6.0          0.9                9.6                 7.8   \n",
              "..  ...             ...          ...                ...                 ...   \n",
              "95   96             0.6          1.6                6.4                 5.0   \n",
              "96   97             6.1          0.5                9.2                 4.8   \n",
              "97   98             2.0          2.8                5.2                 5.0   \n",
              "98   99             3.1          2.2                6.7                 6.8   \n",
              "99  100             2.5          1.8                9.0                 5.0   \n",
              "\n",
              "    Service  Salesforce Image  Product Quality  Satisfaction Level  Firm size  \\\n",
              "0       2.4               2.3              5.2                 4.2          0   \n",
              "1       2.5               4.0              8.4                 4.3          1   \n",
              "2       4.3               2.7              8.2                 5.2          1   \n",
              "3       1.8               2.3              7.8                 3.9          1   \n",
              "4       3.4               4.6              4.5                 6.8          0   \n",
              "..      ...               ...              ...                 ...        ...   \n",
              "95      0.7               2.1              8.4                 3.4          1   \n",
              "96      3.3               2.8              7.1                 5.2          0   \n",
              "97      2.4               2.7              8.4                 3.7          1   \n",
              "98      2.6               2.9              8.4                 4.3          1   \n",
              "99      2.2               3.0              6.0                 4.4          0   \n",
              "\n",
              "    Usage level %  Industry type  Buying situation  \n",
              "0              32              1                 1  \n",
              "1              43              0                 1  \n",
              "2              48              1                 2  \n",
              "3              32              1                 1  \n",
              "4              58              1                 3  \n",
              "..            ...            ...               ...  \n",
              "95             25              1                 1  \n",
              "96             60              1                 3  \n",
              "97             38              0                 1  \n",
              "98             42              0                 1  \n",
              "99             33              0                 1  \n",
              "\n",
              "[100 rows x 13 columns]"
            ],
            "text/html": [
              "\n",
              "  <div id=\"df-68e1dd77-134a-4392-b87e-fb2f74ee8534\" class=\"colab-df-container\">\n",
              "    <div>\n",
              "<style scoped>\n",
              "    .dataframe tbody tr th:only-of-type {\n",
              "        vertical-align: middle;\n",
              "    }\n",
              "\n",
              "    .dataframe tbody tr th {\n",
              "        vertical-align: top;\n",
              "    }\n",
              "\n",
              "    .dataframe thead th {\n",
              "        text-align: right;\n",
              "    }\n",
              "</style>\n",
              "<table border=\"1\" class=\"dataframe\">\n",
              "  <thead>\n",
              "    <tr style=\"text-align: right;\">\n",
              "      <th></th>\n",
              "      <th>id</th>\n",
              "      <th>Delivery Speed</th>\n",
              "      <th>Price Level</th>\n",
              "      <th>Price Flexibility</th>\n",
              "      <th>Manufacturer Image</th>\n",
              "      <th>Service</th>\n",
              "      <th>Salesforce Image</th>\n",
              "      <th>Product Quality</th>\n",
              "      <th>Satisfaction Level</th>\n",
              "      <th>Firm size</th>\n",
              "      <th>Usage level %</th>\n",
              "      <th>Industry type</th>\n",
              "      <th>Buying situation</th>\n",
              "    </tr>\n",
              "  </thead>\n",
              "  <tbody>\n",
              "    <tr>\n",
              "      <th>0</th>\n",
              "      <td>1</td>\n",
              "      <td>4.1</td>\n",
              "      <td>0.6</td>\n",
              "      <td>6.9</td>\n",
              "      <td>4.7</td>\n",
              "      <td>2.4</td>\n",
              "      <td>2.3</td>\n",
              "      <td>5.2</td>\n",
              "      <td>4.2</td>\n",
              "      <td>0</td>\n",
              "      <td>32</td>\n",
              "      <td>1</td>\n",
              "      <td>1</td>\n",
              "    </tr>\n",
              "    <tr>\n",
              "      <th>1</th>\n",
              "      <td>2</td>\n",
              "      <td>1.8</td>\n",
              "      <td>3.0</td>\n",
              "      <td>6.3</td>\n",
              "      <td>6.6</td>\n",
              "      <td>2.5</td>\n",
              "      <td>4.0</td>\n",
              "      <td>8.4</td>\n",
              "      <td>4.3</td>\n",
              "      <td>1</td>\n",
              "      <td>43</td>\n",
              "      <td>0</td>\n",
              "      <td>1</td>\n",
              "    </tr>\n",
              "    <tr>\n",
              "      <th>2</th>\n",
              "      <td>3</td>\n",
              "      <td>3.4</td>\n",
              "      <td>5.2</td>\n",
              "      <td>5.7</td>\n",
              "      <td>6.0</td>\n",
              "      <td>4.3</td>\n",
              "      <td>2.7</td>\n",
              "      <td>8.2</td>\n",
              "      <td>5.2</td>\n",
              "      <td>1</td>\n",
              "      <td>48</td>\n",
              "      <td>1</td>\n",
              "      <td>2</td>\n",
              "    </tr>\n",
              "    <tr>\n",
              "      <th>3</th>\n",
              "      <td>4</td>\n",
              "      <td>2.7</td>\n",
              "      <td>1.0</td>\n",
              "      <td>7.1</td>\n",
              "      <td>5.9</td>\n",
              "      <td>1.8</td>\n",
              "      <td>2.3</td>\n",
              "      <td>7.8</td>\n",
              "      <td>3.9</td>\n",
              "      <td>1</td>\n",
              "      <td>32</td>\n",
              "      <td>1</td>\n",
              "      <td>1</td>\n",
              "    </tr>\n",
              "    <tr>\n",
              "      <th>4</th>\n",
              "      <td>5</td>\n",
              "      <td>6.0</td>\n",
              "      <td>0.9</td>\n",
              "      <td>9.6</td>\n",
              "      <td>7.8</td>\n",
              "      <td>3.4</td>\n",
              "      <td>4.6</td>\n",
              "      <td>4.5</td>\n",
              "      <td>6.8</td>\n",
              "      <td>0</td>\n",
              "      <td>58</td>\n",
              "      <td>1</td>\n",
              "      <td>3</td>\n",
              "    </tr>\n",
              "    <tr>\n",
              "      <th>...</th>\n",
              "      <td>...</td>\n",
              "      <td>...</td>\n",
              "      <td>...</td>\n",
              "      <td>...</td>\n",
              "      <td>...</td>\n",
              "      <td>...</td>\n",
              "      <td>...</td>\n",
              "      <td>...</td>\n",
              "      <td>...</td>\n",
              "      <td>...</td>\n",
              "      <td>...</td>\n",
              "      <td>...</td>\n",
              "      <td>...</td>\n",
              "    </tr>\n",
              "    <tr>\n",
              "      <th>95</th>\n",
              "      <td>96</td>\n",
              "      <td>0.6</td>\n",
              "      <td>1.6</td>\n",
              "      <td>6.4</td>\n",
              "      <td>5.0</td>\n",
              "      <td>0.7</td>\n",
              "      <td>2.1</td>\n",
              "      <td>8.4</td>\n",
              "      <td>3.4</td>\n",
              "      <td>1</td>\n",
              "      <td>25</td>\n",
              "      <td>1</td>\n",
              "      <td>1</td>\n",
              "    </tr>\n",
              "    <tr>\n",
              "      <th>96</th>\n",
              "      <td>97</td>\n",
              "      <td>6.1</td>\n",
              "      <td>0.5</td>\n",
              "      <td>9.2</td>\n",
              "      <td>4.8</td>\n",
              "      <td>3.3</td>\n",
              "      <td>2.8</td>\n",
              "      <td>7.1</td>\n",
              "      <td>5.2</td>\n",
              "      <td>0</td>\n",
              "      <td>60</td>\n",
              "      <td>1</td>\n",
              "      <td>3</td>\n",
              "    </tr>\n",
              "    <tr>\n",
              "      <th>97</th>\n",
              "      <td>98</td>\n",
              "      <td>2.0</td>\n",
              "      <td>2.8</td>\n",
              "      <td>5.2</td>\n",
              "      <td>5.0</td>\n",
              "      <td>2.4</td>\n",
              "      <td>2.7</td>\n",
              "      <td>8.4</td>\n",
              "      <td>3.7</td>\n",
              "      <td>1</td>\n",
              "      <td>38</td>\n",
              "      <td>0</td>\n",
              "      <td>1</td>\n",
              "    </tr>\n",
              "    <tr>\n",
              "      <th>98</th>\n",
              "      <td>99</td>\n",
              "      <td>3.1</td>\n",
              "      <td>2.2</td>\n",
              "      <td>6.7</td>\n",
              "      <td>6.8</td>\n",
              "      <td>2.6</td>\n",
              "      <td>2.9</td>\n",
              "      <td>8.4</td>\n",
              "      <td>4.3</td>\n",
              "      <td>1</td>\n",
              "      <td>42</td>\n",
              "      <td>0</td>\n",
              "      <td>1</td>\n",
              "    </tr>\n",
              "    <tr>\n",
              "      <th>99</th>\n",
              "      <td>100</td>\n",
              "      <td>2.5</td>\n",
              "      <td>1.8</td>\n",
              "      <td>9.0</td>\n",
              "      <td>5.0</td>\n",
              "      <td>2.2</td>\n",
              "      <td>3.0</td>\n",
              "      <td>6.0</td>\n",
              "      <td>4.4</td>\n",
              "      <td>0</td>\n",
              "      <td>33</td>\n",
              "      <td>0</td>\n",
              "      <td>1</td>\n",
              "    </tr>\n",
              "  </tbody>\n",
              "</table>\n",
              "<p>100 rows × 13 columns</p>\n",
              "</div>\n",
              "    <div class=\"colab-df-buttons\">\n",
              "\n",
              "  <div class=\"colab-df-container\">\n",
              "    <button class=\"colab-df-convert\" onclick=\"convertToInteractive('df-68e1dd77-134a-4392-b87e-fb2f74ee8534')\"\n",
              "            title=\"Convert this dataframe to an interactive table.\"\n",
              "            style=\"display:none;\">\n",
              "\n",
              "  <svg xmlns=\"http://www.w3.org/2000/svg\" height=\"24px\" viewBox=\"0 -960 960 960\">\n",
              "    <path d=\"M120-120v-720h720v720H120Zm60-500h600v-160H180v160Zm220 220h160v-160H400v160Zm0 220h160v-160H400v160ZM180-400h160v-160H180v160Zm440 0h160v-160H620v160ZM180-180h160v-160H180v160Zm440 0h160v-160H620v160Z\"/>\n",
              "  </svg>\n",
              "    </button>\n",
              "\n",
              "  <style>\n",
              "    .colab-df-container {\n",
              "      display:flex;\n",
              "      gap: 12px;\n",
              "    }\n",
              "\n",
              "    .colab-df-convert {\n",
              "      background-color: #E8F0FE;\n",
              "      border: none;\n",
              "      border-radius: 50%;\n",
              "      cursor: pointer;\n",
              "      display: none;\n",
              "      fill: #1967D2;\n",
              "      height: 32px;\n",
              "      padding: 0 0 0 0;\n",
              "      width: 32px;\n",
              "    }\n",
              "\n",
              "    .colab-df-convert:hover {\n",
              "      background-color: #E2EBFA;\n",
              "      box-shadow: 0px 1px 2px rgba(60, 64, 67, 0.3), 0px 1px 3px 1px rgba(60, 64, 67, 0.15);\n",
              "      fill: #174EA6;\n",
              "    }\n",
              "\n",
              "    .colab-df-buttons div {\n",
              "      margin-bottom: 4px;\n",
              "    }\n",
              "\n",
              "    [theme=dark] .colab-df-convert {\n",
              "      background-color: #3B4455;\n",
              "      fill: #D2E3FC;\n",
              "    }\n",
              "\n",
              "    [theme=dark] .colab-df-convert:hover {\n",
              "      background-color: #434B5C;\n",
              "      box-shadow: 0px 1px 3px 1px rgba(0, 0, 0, 0.15);\n",
              "      filter: drop-shadow(0px 1px 2px rgba(0, 0, 0, 0.3));\n",
              "      fill: #FFFFFF;\n",
              "    }\n",
              "  </style>\n",
              "\n",
              "    <script>\n",
              "      const buttonEl =\n",
              "        document.querySelector('#df-68e1dd77-134a-4392-b87e-fb2f74ee8534 button.colab-df-convert');\n",
              "      buttonEl.style.display =\n",
              "        google.colab.kernel.accessAllowed ? 'block' : 'none';\n",
              "\n",
              "      async function convertToInteractive(key) {\n",
              "        const element = document.querySelector('#df-68e1dd77-134a-4392-b87e-fb2f74ee8534');\n",
              "        const dataTable =\n",
              "          await google.colab.kernel.invokeFunction('convertToInteractive',\n",
              "                                                    [key], {});\n",
              "        if (!dataTable) return;\n",
              "\n",
              "        const docLinkHtml = 'Like what you see? Visit the ' +\n",
              "          '<a target=\"_blank\" href=https://colab.research.google.com/notebooks/data_table.ipynb>data table notebook</a>'\n",
              "          + ' to learn more about interactive tables.';\n",
              "        element.innerHTML = '';\n",
              "        dataTable['output_type'] = 'display_data';\n",
              "        await google.colab.output.renderOutput(dataTable, element);\n",
              "        const docLink = document.createElement('div');\n",
              "        docLink.innerHTML = docLinkHtml;\n",
              "        element.appendChild(docLink);\n",
              "      }\n",
              "    </script>\n",
              "  </div>\n",
              "\n",
              "\n",
              "<div id=\"df-c9d1a795-9b3d-4297-a794-dcdb53ac5312\">\n",
              "  <button class=\"colab-df-quickchart\" onclick=\"quickchart('df-c9d1a795-9b3d-4297-a794-dcdb53ac5312')\"\n",
              "            title=\"Suggest charts\"\n",
              "            style=\"display:none;\">\n",
              "\n",
              "<svg xmlns=\"http://www.w3.org/2000/svg\" height=\"24px\"viewBox=\"0 0 24 24\"\n",
              "     width=\"24px\">\n",
              "    <g>\n",
              "        <path d=\"M19 3H5c-1.1 0-2 .9-2 2v14c0 1.1.9 2 2 2h14c1.1 0 2-.9 2-2V5c0-1.1-.9-2-2-2zM9 17H7v-7h2v7zm4 0h-2V7h2v10zm4 0h-2v-4h2v4z\"/>\n",
              "    </g>\n",
              "</svg>\n",
              "  </button>\n",
              "\n",
              "<style>\n",
              "  .colab-df-quickchart {\n",
              "      --bg-color: #E8F0FE;\n",
              "      --fill-color: #1967D2;\n",
              "      --hover-bg-color: #E2EBFA;\n",
              "      --hover-fill-color: #174EA6;\n",
              "      --disabled-fill-color: #AAA;\n",
              "      --disabled-bg-color: #DDD;\n",
              "  }\n",
              "\n",
              "  [theme=dark] .colab-df-quickchart {\n",
              "      --bg-color: #3B4455;\n",
              "      --fill-color: #D2E3FC;\n",
              "      --hover-bg-color: #434B5C;\n",
              "      --hover-fill-color: #FFFFFF;\n",
              "      --disabled-bg-color: #3B4455;\n",
              "      --disabled-fill-color: #666;\n",
              "  }\n",
              "\n",
              "  .colab-df-quickchart {\n",
              "    background-color: var(--bg-color);\n",
              "    border: none;\n",
              "    border-radius: 50%;\n",
              "    cursor: pointer;\n",
              "    display: none;\n",
              "    fill: var(--fill-color);\n",
              "    height: 32px;\n",
              "    padding: 0;\n",
              "    width: 32px;\n",
              "  }\n",
              "\n",
              "  .colab-df-quickchart:hover {\n",
              "    background-color: var(--hover-bg-color);\n",
              "    box-shadow: 0 1px 2px rgba(60, 64, 67, 0.3), 0 1px 3px 1px rgba(60, 64, 67, 0.15);\n",
              "    fill: var(--button-hover-fill-color);\n",
              "  }\n",
              "\n",
              "  .colab-df-quickchart-complete:disabled,\n",
              "  .colab-df-quickchart-complete:disabled:hover {\n",
              "    background-color: var(--disabled-bg-color);\n",
              "    fill: var(--disabled-fill-color);\n",
              "    box-shadow: none;\n",
              "  }\n",
              "\n",
              "  .colab-df-spinner {\n",
              "    border: 2px solid var(--fill-color);\n",
              "    border-color: transparent;\n",
              "    border-bottom-color: var(--fill-color);\n",
              "    animation:\n",
              "      spin 1s steps(1) infinite;\n",
              "  }\n",
              "\n",
              "  @keyframes spin {\n",
              "    0% {\n",
              "      border-color: transparent;\n",
              "      border-bottom-color: var(--fill-color);\n",
              "      border-left-color: var(--fill-color);\n",
              "    }\n",
              "    20% {\n",
              "      border-color: transparent;\n",
              "      border-left-color: var(--fill-color);\n",
              "      border-top-color: var(--fill-color);\n",
              "    }\n",
              "    30% {\n",
              "      border-color: transparent;\n",
              "      border-left-color: var(--fill-color);\n",
              "      border-top-color: var(--fill-color);\n",
              "      border-right-color: var(--fill-color);\n",
              "    }\n",
              "    40% {\n",
              "      border-color: transparent;\n",
              "      border-right-color: var(--fill-color);\n",
              "      border-top-color: var(--fill-color);\n",
              "    }\n",
              "    60% {\n",
              "      border-color: transparent;\n",
              "      border-right-color: var(--fill-color);\n",
              "    }\n",
              "    80% {\n",
              "      border-color: transparent;\n",
              "      border-right-color: var(--fill-color);\n",
              "      border-bottom-color: var(--fill-color);\n",
              "    }\n",
              "    90% {\n",
              "      border-color: transparent;\n",
              "      border-bottom-color: var(--fill-color);\n",
              "    }\n",
              "  }\n",
              "</style>\n",
              "\n",
              "  <script>\n",
              "    async function quickchart(key) {\n",
              "      const quickchartButtonEl =\n",
              "        document.querySelector('#' + key + ' button');\n",
              "      quickchartButtonEl.disabled = true;  // To prevent multiple clicks.\n",
              "      quickchartButtonEl.classList.add('colab-df-spinner');\n",
              "      try {\n",
              "        const charts = await google.colab.kernel.invokeFunction(\n",
              "            'suggestCharts', [key], {});\n",
              "      } catch (error) {\n",
              "        console.error('Error during call to suggestCharts:', error);\n",
              "      }\n",
              "      quickchartButtonEl.classList.remove('colab-df-spinner');\n",
              "      quickchartButtonEl.classList.add('colab-df-quickchart-complete');\n",
              "    }\n",
              "    (() => {\n",
              "      let quickchartButtonEl =\n",
              "        document.querySelector('#df-c9d1a795-9b3d-4297-a794-dcdb53ac5312 button');\n",
              "      quickchartButtonEl.style.display =\n",
              "        google.colab.kernel.accessAllowed ? 'block' : 'none';\n",
              "    })();\n",
              "  </script>\n",
              "</div>\n",
              "    </div>\n",
              "  </div>\n"
            ]
          },
          "metadata": {},
          "execution_count": 22
        }
      ],
      "source": [
        "# Avaan vielä toisen datan, jossa asteikolla 0-10 mitattuja mielikuvia\n",
        "hatco = pd.read_excel('hatco.xlsx')\n",
        "hatco"
      ]
    },
    {
      "cell_type": "code",
      "execution_count": null,
      "id": "610da263",
      "metadata": {
        "id": "610da263"
      },
      "outputs": [],
      "source": [
        "# Pelkästään mielikuvamuuttujat\n",
        "hatco1 = hatco.loc[:, 'Delivery Speed':'Satisfaction Level']"
      ]
    },
    {
      "cell_type": "code",
      "execution_count": null,
      "id": "52ce7b0d",
      "metadata": {
        "id": "52ce7b0d",
        "outputId": "f3042a59-9198-4cca-d34d-78180332b2a1",
        "colab": {
          "base_uri": "https://localhost:8080/",
          "height": 317
        }
      },
      "outputs": [
        {
          "output_type": "execute_result",
          "data": {
            "text/plain": [
              "       Delivery Speed  Price Level  Price Flexibility  Manufacturer Image  \\\n",
              "count      100.000000   100.000000         100.000000          100.000000   \n",
              "mean         3.515000     2.364000           7.894000            5.248000   \n",
              "std          1.320726     1.195659           1.386502            1.131414   \n",
              "min          0.000000     0.200000           5.000000            2.500000   \n",
              "25%          2.500000     1.475000           6.700000            4.575000   \n",
              "50%          3.400000     2.150000           8.050000            5.000000   \n",
              "75%          4.600000     3.225000           9.100000            6.000000   \n",
              "max          6.100000     5.400000          10.000000            8.200000   \n",
              "\n",
              "          Service  Salesforce Image  Product Quality  Satisfaction Level  \n",
              "count  100.000000        100.000000       100.000000          100.000000  \n",
              "mean     2.916000          2.665000         6.971000            4.771000  \n",
              "std      0.751258          0.770855         1.585241            0.855558  \n",
              "min      0.700000          1.100000         3.700000            3.200000  \n",
              "25%      2.400000          2.200000         5.800000            4.100000  \n",
              "50%      3.000000          2.600000         7.150000            4.850000  \n",
              "75%      3.425000          3.000000         8.325000            5.400000  \n",
              "max      4.600000          4.600000        10.000000            6.800000  "
            ],
            "text/html": [
              "\n",
              "  <div id=\"df-cd3db183-802d-43bf-8863-4d3933cb4356\" class=\"colab-df-container\">\n",
              "    <div>\n",
              "<style scoped>\n",
              "    .dataframe tbody tr th:only-of-type {\n",
              "        vertical-align: middle;\n",
              "    }\n",
              "\n",
              "    .dataframe tbody tr th {\n",
              "        vertical-align: top;\n",
              "    }\n",
              "\n",
              "    .dataframe thead th {\n",
              "        text-align: right;\n",
              "    }\n",
              "</style>\n",
              "<table border=\"1\" class=\"dataframe\">\n",
              "  <thead>\n",
              "    <tr style=\"text-align: right;\">\n",
              "      <th></th>\n",
              "      <th>Delivery Speed</th>\n",
              "      <th>Price Level</th>\n",
              "      <th>Price Flexibility</th>\n",
              "      <th>Manufacturer Image</th>\n",
              "      <th>Service</th>\n",
              "      <th>Salesforce Image</th>\n",
              "      <th>Product Quality</th>\n",
              "      <th>Satisfaction Level</th>\n",
              "    </tr>\n",
              "  </thead>\n",
              "  <tbody>\n",
              "    <tr>\n",
              "      <th>count</th>\n",
              "      <td>100.000000</td>\n",
              "      <td>100.000000</td>\n",
              "      <td>100.000000</td>\n",
              "      <td>100.000000</td>\n",
              "      <td>100.000000</td>\n",
              "      <td>100.000000</td>\n",
              "      <td>100.000000</td>\n",
              "      <td>100.000000</td>\n",
              "    </tr>\n",
              "    <tr>\n",
              "      <th>mean</th>\n",
              "      <td>3.515000</td>\n",
              "      <td>2.364000</td>\n",
              "      <td>7.894000</td>\n",
              "      <td>5.248000</td>\n",
              "      <td>2.916000</td>\n",
              "      <td>2.665000</td>\n",
              "      <td>6.971000</td>\n",
              "      <td>4.771000</td>\n",
              "    </tr>\n",
              "    <tr>\n",
              "      <th>std</th>\n",
              "      <td>1.320726</td>\n",
              "      <td>1.195659</td>\n",
              "      <td>1.386502</td>\n",
              "      <td>1.131414</td>\n",
              "      <td>0.751258</td>\n",
              "      <td>0.770855</td>\n",
              "      <td>1.585241</td>\n",
              "      <td>0.855558</td>\n",
              "    </tr>\n",
              "    <tr>\n",
              "      <th>min</th>\n",
              "      <td>0.000000</td>\n",
              "      <td>0.200000</td>\n",
              "      <td>5.000000</td>\n",
              "      <td>2.500000</td>\n",
              "      <td>0.700000</td>\n",
              "      <td>1.100000</td>\n",
              "      <td>3.700000</td>\n",
              "      <td>3.200000</td>\n",
              "    </tr>\n",
              "    <tr>\n",
              "      <th>25%</th>\n",
              "      <td>2.500000</td>\n",
              "      <td>1.475000</td>\n",
              "      <td>6.700000</td>\n",
              "      <td>4.575000</td>\n",
              "      <td>2.400000</td>\n",
              "      <td>2.200000</td>\n",
              "      <td>5.800000</td>\n",
              "      <td>4.100000</td>\n",
              "    </tr>\n",
              "    <tr>\n",
              "      <th>50%</th>\n",
              "      <td>3.400000</td>\n",
              "      <td>2.150000</td>\n",
              "      <td>8.050000</td>\n",
              "      <td>5.000000</td>\n",
              "      <td>3.000000</td>\n",
              "      <td>2.600000</td>\n",
              "      <td>7.150000</td>\n",
              "      <td>4.850000</td>\n",
              "    </tr>\n",
              "    <tr>\n",
              "      <th>75%</th>\n",
              "      <td>4.600000</td>\n",
              "      <td>3.225000</td>\n",
              "      <td>9.100000</td>\n",
              "      <td>6.000000</td>\n",
              "      <td>3.425000</td>\n",
              "      <td>3.000000</td>\n",
              "      <td>8.325000</td>\n",
              "      <td>5.400000</td>\n",
              "    </tr>\n",
              "    <tr>\n",
              "      <th>max</th>\n",
              "      <td>6.100000</td>\n",
              "      <td>5.400000</td>\n",
              "      <td>10.000000</td>\n",
              "      <td>8.200000</td>\n",
              "      <td>4.600000</td>\n",
              "      <td>4.600000</td>\n",
              "      <td>10.000000</td>\n",
              "      <td>6.800000</td>\n",
              "    </tr>\n",
              "  </tbody>\n",
              "</table>\n",
              "</div>\n",
              "    <div class=\"colab-df-buttons\">\n",
              "\n",
              "  <div class=\"colab-df-container\">\n",
              "    <button class=\"colab-df-convert\" onclick=\"convertToInteractive('df-cd3db183-802d-43bf-8863-4d3933cb4356')\"\n",
              "            title=\"Convert this dataframe to an interactive table.\"\n",
              "            style=\"display:none;\">\n",
              "\n",
              "  <svg xmlns=\"http://www.w3.org/2000/svg\" height=\"24px\" viewBox=\"0 -960 960 960\">\n",
              "    <path d=\"M120-120v-720h720v720H120Zm60-500h600v-160H180v160Zm220 220h160v-160H400v160Zm0 220h160v-160H400v160ZM180-400h160v-160H180v160Zm440 0h160v-160H620v160ZM180-180h160v-160H180v160Zm440 0h160v-160H620v160Z\"/>\n",
              "  </svg>\n",
              "    </button>\n",
              "\n",
              "  <style>\n",
              "    .colab-df-container {\n",
              "      display:flex;\n",
              "      gap: 12px;\n",
              "    }\n",
              "\n",
              "    .colab-df-convert {\n",
              "      background-color: #E8F0FE;\n",
              "      border: none;\n",
              "      border-radius: 50%;\n",
              "      cursor: pointer;\n",
              "      display: none;\n",
              "      fill: #1967D2;\n",
              "      height: 32px;\n",
              "      padding: 0 0 0 0;\n",
              "      width: 32px;\n",
              "    }\n",
              "\n",
              "    .colab-df-convert:hover {\n",
              "      background-color: #E2EBFA;\n",
              "      box-shadow: 0px 1px 2px rgba(60, 64, 67, 0.3), 0px 1px 3px 1px rgba(60, 64, 67, 0.15);\n",
              "      fill: #174EA6;\n",
              "    }\n",
              "\n",
              "    .colab-df-buttons div {\n",
              "      margin-bottom: 4px;\n",
              "    }\n",
              "\n",
              "    [theme=dark] .colab-df-convert {\n",
              "      background-color: #3B4455;\n",
              "      fill: #D2E3FC;\n",
              "    }\n",
              "\n",
              "    [theme=dark] .colab-df-convert:hover {\n",
              "      background-color: #434B5C;\n",
              "      box-shadow: 0px 1px 3px 1px rgba(0, 0, 0, 0.15);\n",
              "      filter: drop-shadow(0px 1px 2px rgba(0, 0, 0, 0.3));\n",
              "      fill: #FFFFFF;\n",
              "    }\n",
              "  </style>\n",
              "\n",
              "    <script>\n",
              "      const buttonEl =\n",
              "        document.querySelector('#df-cd3db183-802d-43bf-8863-4d3933cb4356 button.colab-df-convert');\n",
              "      buttonEl.style.display =\n",
              "        google.colab.kernel.accessAllowed ? 'block' : 'none';\n",
              "\n",
              "      async function convertToInteractive(key) {\n",
              "        const element = document.querySelector('#df-cd3db183-802d-43bf-8863-4d3933cb4356');\n",
              "        const dataTable =\n",
              "          await google.colab.kernel.invokeFunction('convertToInteractive',\n",
              "                                                    [key], {});\n",
              "        if (!dataTable) return;\n",
              "\n",
              "        const docLinkHtml = 'Like what you see? Visit the ' +\n",
              "          '<a target=\"_blank\" href=https://colab.research.google.com/notebooks/data_table.ipynb>data table notebook</a>'\n",
              "          + ' to learn more about interactive tables.';\n",
              "        element.innerHTML = '';\n",
              "        dataTable['output_type'] = 'display_data';\n",
              "        await google.colab.output.renderOutput(dataTable, element);\n",
              "        const docLink = document.createElement('div');\n",
              "        docLink.innerHTML = docLinkHtml;\n",
              "        element.appendChild(docLink);\n",
              "      }\n",
              "    </script>\n",
              "  </div>\n",
              "\n",
              "\n",
              "<div id=\"df-26fac070-98d2-4327-a745-d7ccc91b6f57\">\n",
              "  <button class=\"colab-df-quickchart\" onclick=\"quickchart('df-26fac070-98d2-4327-a745-d7ccc91b6f57')\"\n",
              "            title=\"Suggest charts\"\n",
              "            style=\"display:none;\">\n",
              "\n",
              "<svg xmlns=\"http://www.w3.org/2000/svg\" height=\"24px\"viewBox=\"0 0 24 24\"\n",
              "     width=\"24px\">\n",
              "    <g>\n",
              "        <path d=\"M19 3H5c-1.1 0-2 .9-2 2v14c0 1.1.9 2 2 2h14c1.1 0 2-.9 2-2V5c0-1.1-.9-2-2-2zM9 17H7v-7h2v7zm4 0h-2V7h2v10zm4 0h-2v-4h2v4z\"/>\n",
              "    </g>\n",
              "</svg>\n",
              "  </button>\n",
              "\n",
              "<style>\n",
              "  .colab-df-quickchart {\n",
              "      --bg-color: #E8F0FE;\n",
              "      --fill-color: #1967D2;\n",
              "      --hover-bg-color: #E2EBFA;\n",
              "      --hover-fill-color: #174EA6;\n",
              "      --disabled-fill-color: #AAA;\n",
              "      --disabled-bg-color: #DDD;\n",
              "  }\n",
              "\n",
              "  [theme=dark] .colab-df-quickchart {\n",
              "      --bg-color: #3B4455;\n",
              "      --fill-color: #D2E3FC;\n",
              "      --hover-bg-color: #434B5C;\n",
              "      --hover-fill-color: #FFFFFF;\n",
              "      --disabled-bg-color: #3B4455;\n",
              "      --disabled-fill-color: #666;\n",
              "  }\n",
              "\n",
              "  .colab-df-quickchart {\n",
              "    background-color: var(--bg-color);\n",
              "    border: none;\n",
              "    border-radius: 50%;\n",
              "    cursor: pointer;\n",
              "    display: none;\n",
              "    fill: var(--fill-color);\n",
              "    height: 32px;\n",
              "    padding: 0;\n",
              "    width: 32px;\n",
              "  }\n",
              "\n",
              "  .colab-df-quickchart:hover {\n",
              "    background-color: var(--hover-bg-color);\n",
              "    box-shadow: 0 1px 2px rgba(60, 64, 67, 0.3), 0 1px 3px 1px rgba(60, 64, 67, 0.15);\n",
              "    fill: var(--button-hover-fill-color);\n",
              "  }\n",
              "\n",
              "  .colab-df-quickchart-complete:disabled,\n",
              "  .colab-df-quickchart-complete:disabled:hover {\n",
              "    background-color: var(--disabled-bg-color);\n",
              "    fill: var(--disabled-fill-color);\n",
              "    box-shadow: none;\n",
              "  }\n",
              "\n",
              "  .colab-df-spinner {\n",
              "    border: 2px solid var(--fill-color);\n",
              "    border-color: transparent;\n",
              "    border-bottom-color: var(--fill-color);\n",
              "    animation:\n",
              "      spin 1s steps(1) infinite;\n",
              "  }\n",
              "\n",
              "  @keyframes spin {\n",
              "    0% {\n",
              "      border-color: transparent;\n",
              "      border-bottom-color: var(--fill-color);\n",
              "      border-left-color: var(--fill-color);\n",
              "    }\n",
              "    20% {\n",
              "      border-color: transparent;\n",
              "      border-left-color: var(--fill-color);\n",
              "      border-top-color: var(--fill-color);\n",
              "    }\n",
              "    30% {\n",
              "      border-color: transparent;\n",
              "      border-left-color: var(--fill-color);\n",
              "      border-top-color: var(--fill-color);\n",
              "      border-right-color: var(--fill-color);\n",
              "    }\n",
              "    40% {\n",
              "      border-color: transparent;\n",
              "      border-right-color: var(--fill-color);\n",
              "      border-top-color: var(--fill-color);\n",
              "    }\n",
              "    60% {\n",
              "      border-color: transparent;\n",
              "      border-right-color: var(--fill-color);\n",
              "    }\n",
              "    80% {\n",
              "      border-color: transparent;\n",
              "      border-right-color: var(--fill-color);\n",
              "      border-bottom-color: var(--fill-color);\n",
              "    }\n",
              "    90% {\n",
              "      border-color: transparent;\n",
              "      border-bottom-color: var(--fill-color);\n",
              "    }\n",
              "  }\n",
              "</style>\n",
              "\n",
              "  <script>\n",
              "    async function quickchart(key) {\n",
              "      const quickchartButtonEl =\n",
              "        document.querySelector('#' + key + ' button');\n",
              "      quickchartButtonEl.disabled = true;  // To prevent multiple clicks.\n",
              "      quickchartButtonEl.classList.add('colab-df-spinner');\n",
              "      try {\n",
              "        const charts = await google.colab.kernel.invokeFunction(\n",
              "            'suggestCharts', [key], {});\n",
              "      } catch (error) {\n",
              "        console.error('Error during call to suggestCharts:', error);\n",
              "      }\n",
              "      quickchartButtonEl.classList.remove('colab-df-spinner');\n",
              "      quickchartButtonEl.classList.add('colab-df-quickchart-complete');\n",
              "    }\n",
              "    (() => {\n",
              "      let quickchartButtonEl =\n",
              "        document.querySelector('#df-26fac070-98d2-4327-a745-d7ccc91b6f57 button');\n",
              "      quickchartButtonEl.style.display =\n",
              "        google.colab.kernel.accessAllowed ? 'block' : 'none';\n",
              "    })();\n",
              "  </script>\n",
              "</div>\n",
              "    </div>\n",
              "  </div>\n"
            ]
          },
          "metadata": {},
          "execution_count": 24
        }
      ],
      "source": [
        "# Tunnuslukuja mielikuva-muuttujille\n",
        "hatco1.describe()"
      ]
    },
    {
      "cell_type": "code",
      "execution_count": null,
      "id": "aaec23bc",
      "metadata": {
        "id": "aaec23bc",
        "outputId": "ffb55eb1-3ebe-4548-9b4b-0b9521aa7475",
        "colab": {
          "base_uri": "https://localhost:8080/",
          "height": 466
        }
      },
      "outputs": [
        {
          "output_type": "execute_result",
          "data": {
            "text/plain": [
              "(0.0, 10.0)"
            ]
          },
          "metadata": {},
          "execution_count": 25
        },
        {
          "output_type": "display_data",
          "data": {
            "text/plain": [
              "<Figure size 640x480 with 1 Axes>"
            ],
            "image/png": "[encoded data removed]"
          },
          "metadata": {}
        }
      ],
      "source": [
        "# Mielikuvamuuttujat keskiarvojen mukaisessa järjestyksessä\n",
        "list2 = hatco1.mean().sort_values().index\n",
        "\n",
        "# Keskiarvot ja virhemarginaalit\n",
        "sns.barplot(data=hatco1[list2], orient='h')\n",
        "\n",
        "plt.xlabel('mielikuva (0 = huono, 10 = erinomainen)')\n",
        "plt.xlim(0, 10)"
      ]
    },
    {
      "cell_type": "code",
      "execution_count": null,
      "id": "5bb57a6a",
      "metadata": {
        "id": "5bb57a6a",
        "outputId": "30b7feac-8109-462b-ac5b-c92882ced48d",
        "colab": {
          "base_uri": "https://localhost:8080/",
          "height": 466
        }
      },
      "outputs": [
        {
          "output_type": "execute_result",
          "data": {
            "text/plain": [
              "(0.0, 10.0)"
            ]
          },
          "metadata": {},
          "execution_count": 26
        },
        {
          "output_type": "display_data",
          "data": {
            "text/plain": [
              "<Figure size 640x480 with 1 Axes>"
            ],
            "image/png": "[encoded data removed]"
          },
          "metadata": {}
        }
      ],
      "source": [
        "# Boxplot mielikuvamuuttujista\n",
        "# Boxplot sisältää enemmän informaatiota kuin pelkkien keskiarvojen esittäminen!\n",
        "sns.boxplot(data=hatco1[list2], orient='h')\n",
        "\n",
        "plt.xlabel('mielikuva (0 = huono, 10 = erinomainen)')\n",
        "plt.xlim(0, 10)"
      ]
    },
    {
      "cell_type": "markdown",
      "id": "a3ccc3dd",
      "metadata": {
        "id": "a3ccc3dd"
      },
      "source": [
        "\n",
        "## Kaavioiden värit ja koot\n",
        "\n",
        "Kaavion luonnissa voin määrittää värin **color**-parametrin arvona (toimii myös seaborn-kaavioille). Esimerkiksi tämän muistion ensimmäiseen kaavioon saan pylväille vihreän värin seuraavasti: `df1['f'].plot.bar(width=0.8, rot=0, color='green')`. Reunavärin voin määrittää **edgecolor**-parametrilla.\n",
        "\n",
        "Värejä: https://matplotlib.org/stable/gallery/color/named_colors.html\n",
        "\n",
        "Kaavion luonnissa voit määrittää käytettävän värikartan suoraan dataframesta tehdyille kaavioille **cmap**-parametrilla ja seaborn-kaavioille **palette**-parametrilla. Esimerkiksi tämän muistion viimeisessä kaaviossa voin vaihtaa värikartaksi Greens: `sns.boxplot(data=hatco1[list2], orient='h', palette='Greens')`\n",
        "\n",
        "Värikarttoja: https://matplotlib.org/stable/tutorials/colors/colormaps.html\n",
        "\n",
        "Suoraan dataframesta tehdyn kaavion koon voin määrittää **figsize**-parametrin arvona. Esimerkiksi `df1['f'].plot.bar(width=0.8, rot=0, figsize=(10, 6))`\n",
        "\n",
        "Seaborn-kaavion koon voin määrittää luomalla kaaviota ympäröivän kuvion (figure) ennen kaavion luomista. Esimerkiksi `plt.figure(figsize=(10,6))`"
      ]
    },
    {
      "cell_type": "markdown",
      "id": "c825341e",
      "metadata": {
        "id": "c825341e"
      },
      "source": [
        "## Lisätietoa\n",
        "\n",
        "Data-analytiikka Pythonilla https://tilastoapu.wordpress.com/python/"
      ]
    }
  ],
  "metadata": {
    "kernelspec": {
      "display_name": "Python 3 (ipykernel)",
      "language": "python",
      "name": "python3"
    },
    "language_info": {
      "codemirror_mode": {
        "name": "ipython",
        "version": 3
      },
      "file_extension": ".py",
      "mimetype": "text/x-python",
      "name": "python",
      "nbconvert_exporter": "python",
      "pygments_lexer": "ipython3",
      "version": "3.10.9"
    },
    "colab": {
      "provenance": [],
      "include_colab_link": true
    }
  },
  "nbformat": 4,
  "nbformat_minor": 5
}