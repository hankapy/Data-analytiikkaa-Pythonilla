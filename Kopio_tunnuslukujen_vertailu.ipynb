{
  "cells": [
    {
      "cell_type": "markdown",
      "metadata": {
        "id": "view-in-github",
        "colab_type": "text"
      },
      "source": [
        "<a href=\"https://colab.research.google.com/github/hankapy/Data-analytiikkaa-Pythonilla/blob/main/Kopio_tunnuslukujen_vertailu.ipynb\" target=\"_parent\"><img src=\"https://colab.research.google.com/assets/colab-badge.svg\" alt=\"Open In Colab\"/></a>"
      ]
    },
    {
      "cell_type": "code",
      "execution_count": null,
      "metadata": {
        "id": "oucpdRLvCghM",
        "outputId": "df707886-5339-48ef-ae11-df0936681078",
        "colab": {
          "base_uri": "https://localhost:8080/"
        }
      },
      "outputs": [
        {
          "output_type": "stream",
          "name": "stdout",
          "text": [
            "Päivitetty 2023-08-16 / Aki Taanila\n"
          ]
        }
      ],
      "source": [
        "from datetime import datetime\n",
        "print(f'Päivitetty {datetime.now().date()} / Aki Taanila')"
      ]
    },
    {
      "cell_type": "code",
      "source": [
        "# Yhdistäminen Google driveen\n",
        "from google.colab import drive\n",
        "drive.mount('/gdrive')\n",
        "%cd /gdrive/MyDrive/data"
      ],
      "metadata": {
        "colab": {
          "base_uri": "https://localhost:8080/"
        },
        "id": "GQj95EonCnr_",
        "outputId": "0e846124-d8fb-4406-d845-c0c551ddd0da"
      },
      "execution_count": null,
      "outputs": [
        {
          "output_type": "stream",
          "name": "stdout",
          "text": [
            "Mounted at /gdrive\n",
            "/gdrive/MyDrive/data\n"
          ]
        }
      ]
    },
    {
      "cell_type": "markdown",
      "metadata": {
        "id": "h95aXWj8CghN"
      },
      "source": [
        "# Tunnuslukujen vertailua ryhmien välillä\n",
        "\n",
        "Määrälliselle muuttujalle laskettuja tilastollisia tunnuslukuja voin vertailla kategorisen muuttujan määräämissä ryhmissä."
      ]
    },
    {
      "cell_type": "code",
      "execution_count": null,
      "metadata": {
        "id": "WYsyTaA9CghO"
      },
      "outputs": [],
      "source": [
        "import pandas as pd\n",
        "import matplotlib.pyplot as plt\n",
        "import seaborn as sns\n",
        "\n",
        "sns.set_style('whitegrid')"
      ]
    },
    {
      "cell_type": "code",
      "execution_count": null,
      "metadata": {
        "id": "IHUtewMPCghO",
        "outputId": "a8840698-0354-438e-dd89-4dccbba39338",
        "colab": {
          "base_uri": "https://localhost:8080/",
          "height": 423
        }
      },
      "outputs": [
        {
          "output_type": "execute_result",
          "data": {
            "text/plain": [
              "    nro  sukup  ikä  perhe  koulutus  palveluv  palkka  johto  työtov  työymp  \\\n",
              "0     1      1   38      1       1.0      22.0    3587      3     3.0       3   \n",
              "1     2      1   29      2       2.0      10.0    2963      1     5.0       2   \n",
              "2     3      1   30      1       1.0       7.0    1989      3     4.0       1   \n",
              "3     4      1   36      2       1.0      14.0    2144      3     3.0       3   \n",
              "4     5      1   24      1       2.0       4.0    2183      2     3.0       2   \n",
              "..  ...    ...  ...    ...       ...       ...     ...    ...     ...     ...   \n",
              "77   78      1   22      1       3.0       0.0    1598      4     4.0       4   \n",
              "78   79      1   33      1       1.0       2.0    1638      1     3.0       2   \n",
              "79   80      1   27      1       2.0       7.0    2612      3     4.0       3   \n",
              "80   81      1   35      2       2.0      16.0    2808      3     4.0       3   \n",
              "81   82      2   35      2       3.0      15.0    2183      3     4.0       4   \n",
              "\n",
              "    palkkat  työteht  työterv  lomaosa  kuntosa  hieroja  \n",
              "0         3        3      NaN      NaN      NaN      NaN  \n",
              "1         1        3      NaN      NaN      NaN      NaN  \n",
              "2         1        3      1.0      NaN      NaN      NaN  \n",
              "3         3        3      1.0      NaN      NaN      NaN  \n",
              "4         1        2      1.0      NaN      NaN      NaN  \n",
              "..      ...      ...      ...      ...      ...      ...  \n",
              "77        3        4      NaN      1.0      1.0      NaN  \n",
              "78        1        2      1.0      NaN      NaN      NaN  \n",
              "79        3        3      1.0      NaN      1.0      NaN  \n",
              "80        3        3      NaN      NaN      NaN      NaN  \n",
              "81        3        4      1.0      NaN      NaN      NaN  \n",
              "\n",
              "[82 rows x 16 columns]"
            ],
            "text/html": [
              "\n",
              "\n",
              "  <div id=\"df-730ad441-41b0-4fae-892a-dbabfc68fc47\">\n",
              "    <div class=\"colab-df-container\">\n",
              "      <div>\n",
              "<style scoped>\n",
              "    .dataframe tbody tr th:only-of-type {\n",
              "        vertical-align: middle;\n",
              "    }\n",
              "\n",
              "    .dataframe tbody tr th {\n",
              "        vertical-align: top;\n",
              "    }\n",
              "\n",
              "    .dataframe thead th {\n",
              "        text-align: right;\n",
              "    }\n",
              "</style>\n",
              "<table border=\"1\" class=\"dataframe\">\n",
              "  <thead>\n",
              "    <tr style=\"text-align: right;\">\n",
              "      <th></th>\n",
              "      <th>nro</th>\n",
              "      <th>sukup</th>\n",
              "      <th>ikä</th>\n",
              "      <th>perhe</th>\n",
              "      <th>koulutus</th>\n",
              "      <th>palveluv</th>\n",
              "      <th>palkka</th>\n",
              "      <th>johto</th>\n",
              "      <th>työtov</th>\n",
              "      <th>työymp</th>\n",
              "      <th>palkkat</th>\n",
              "      <th>työteht</th>\n",
              "      <th>työterv</th>\n",
              "      <th>lomaosa</th>\n",
              "      <th>kuntosa</th>\n",
              "      <th>hieroja</th>\n",
              "    </tr>\n",
              "  </thead>\n",
              "  <tbody>\n",
              "    <tr>\n",
              "      <th>0</th>\n",
              "      <td>1</td>\n",
              "      <td>1</td>\n",
              "      <td>38</td>\n",
              "      <td>1</td>\n",
              "      <td>1.0</td>\n",
              "      <td>22.0</td>\n",
              "      <td>3587</td>\n",
              "      <td>3</td>\n",
              "      <td>3.0</td>\n",
              "      <td>3</td>\n",
              "      <td>3</td>\n",
              "      <td>3</td>\n",
              "      <td>NaN</td>\n",
              "      <td>NaN</td>\n",
              "      <td>NaN</td>\n",
              "      <td>NaN</td>\n",
              "    </tr>\n",
              "    <tr>\n",
              "      <th>1</th>\n",
              "      <td>2</td>\n",
              "      <td>1</td>\n",
              "      <td>29</td>\n",
              "      <td>2</td>\n",
              "      <td>2.0</td>\n",
              "      <td>10.0</td>\n",
              "      <td>2963</td>\n",
              "      <td>1</td>\n",
              "      <td>5.0</td>\n",
              "      <td>2</td>\n",
              "      <td>1</td>\n",
              "      <td>3</td>\n",
              "      <td>NaN</td>\n",
              "      <td>NaN</td>\n",
              "      <td>NaN</td>\n",
              "      <td>NaN</td>\n",
              "    </tr>\n",
              "    <tr>\n",
              "      <th>2</th>\n",
              "      <td>3</td>\n",
              "      <td>1</td>\n",
              "      <td>30</td>\n",
              "      <td>1</td>\n",
              "      <td>1.0</td>\n",
              "      <td>7.0</td>\n",
              "      <td>1989</td>\n",
              "      <td>3</td>\n",
              "      <td>4.0</td>\n",
              "      <td>1</td>\n",
              "      <td>1</td>\n",
              "      <td>3</td>\n",
              "      <td>1.0</td>\n",
              "      <td>NaN</td>\n",
              "      <td>NaN</td>\n",
              "      <td>NaN</td>\n",
              "    </tr>\n",
              "    <tr>\n",
              "      <th>3</th>\n",
              "      <td>4</td>\n",
              "      <td>1</td>\n",
              "      <td>36</td>\n",
              "      <td>2</td>\n",
              "      <td>1.0</td>\n",
              "      <td>14.0</td>\n",
              "      <td>2144</td>\n",
              "      <td>3</td>\n",
              "      <td>3.0</td>\n",
              "      <td>3</td>\n",
              "      <td>3</td>\n",
              "      <td>3</td>\n",
              "      <td>1.0</td>\n",
              "      <td>NaN</td>\n",
              "      <td>NaN</td>\n",
              "      <td>NaN</td>\n",
              "    </tr>\n",
              "    <tr>\n",
              "      <th>4</th>\n",
              "      <td>5</td>\n",
              "      <td>1</td>\n",
              "      <td>24</td>\n",
              "      <td>1</td>\n",
              "      <td>2.0</td>\n",
              "      <td>4.0</td>\n",
              "      <td>2183</td>\n",
              "      <td>2</td>\n",
              "      <td>3.0</td>\n",
              "      <td>2</td>\n",
              "      <td>1</td>\n",
              "      <td>2</td>\n",
              "      <td>1.0</td>\n",
              "      <td>NaN</td>\n",
              "      <td>NaN</td>\n",
              "      <td>NaN</td>\n",
              "    </tr>\n",
              "    <tr>\n",
              "      <th>...</th>\n",
              "      <td>...</td>\n",
              "      <td>...</td>\n",
              "      <td>...</td>\n",
              "      <td>...</td>\n",
              "      <td>...</td>\n",
              "      <td>...</td>\n",
              "      <td>...</td>\n",
              "      <td>...</td>\n",
              "      <td>...</td>\n",
              "      <td>...</td>\n",
              "      <td>...</td>\n",
              "      <td>...</td>\n",
              "      <td>...</td>\n",
              "      <td>...</td>\n",
              "      <td>...</td>\n",
              "      <td>...</td>\n",
              "    </tr>\n",
              "    <tr>\n",
              "      <th>77</th>\n",
              "      <td>78</td>\n",
              "      <td>1</td>\n",
              "      <td>22</td>\n",
              "      <td>1</td>\n",
              "      <td>3.0</td>\n",
              "      <td>0.0</td>\n",
              "      <td>1598</td>\n",
              "      <td>4</td>\n",
              "      <td>4.0</td>\n",
              "      <td>4</td>\n",
              "      <td>3</td>\n",
              "      <td>4</td>\n",
              "      <td>NaN</td>\n",
              "      <td>1.0</td>\n",
              "      <td>1.0</td>\n",
              "      <td>NaN</td>\n",
              "    </tr>\n",
              "    <tr>\n",
              "      <th>78</th>\n",
              "      <td>79</td>\n",
              "      <td>1</td>\n",
              "      <td>33</td>\n",
              "      <td>1</td>\n",
              "      <td>1.0</td>\n",
              "      <td>2.0</td>\n",
              "      <td>1638</td>\n",
              "      <td>1</td>\n",
              "      <td>3.0</td>\n",
              "      <td>2</td>\n",
              "      <td>1</td>\n",
              "      <td>2</td>\n",
              "      <td>1.0</td>\n",
              "      <td>NaN</td>\n",
              "      <td>NaN</td>\n",
              "      <td>NaN</td>\n",
              "    </tr>\n",
              "    <tr>\n",
              "      <th>79</th>\n",
              "      <td>80</td>\n",
              "      <td>1</td>\n",
              "      <td>27</td>\n",
              "      <td>1</td>\n",
              "      <td>2.0</td>\n",
              "      <td>7.0</td>\n",
              "      <td>2612</td>\n",
              "      <td>3</td>\n",
              "      <td>4.0</td>\n",
              "      <td>3</td>\n",
              "      <td>3</td>\n",
              "      <td>3</td>\n",
              "      <td>1.0</td>\n",
              "      <td>NaN</td>\n",
              "      <td>1.0</td>\n",
              "      <td>NaN</td>\n",
              "    </tr>\n",
              "    <tr>\n",
              "      <th>80</th>\n",
              "      <td>81</td>\n",
              "      <td>1</td>\n",
              "      <td>35</td>\n",
              "      <td>2</td>\n",
              "      <td>2.0</td>\n",
              "      <td>16.0</td>\n",
              "      <td>2808</td>\n",
              "      <td>3</td>\n",
              "      <td>4.0</td>\n",
              "      <td>3</td>\n",
              "      <td>3</td>\n",
              "      <td>3</td>\n",
              "      <td>NaN</td>\n",
              "      <td>NaN</td>\n",
              "      <td>NaN</td>\n",
              "      <td>NaN</td>\n",
              "    </tr>\n",
              "    <tr>\n",
              "      <th>81</th>\n",
              "      <td>82</td>\n",
              "      <td>2</td>\n",
              "      <td>35</td>\n",
              "      <td>2</td>\n",
              "      <td>3.0</td>\n",
              "      <td>15.0</td>\n",
              "      <td>2183</td>\n",
              "      <td>3</td>\n",
              "      <td>4.0</td>\n",
              "      <td>4</td>\n",
              "      <td>3</td>\n",
              "      <td>4</td>\n",
              "      <td>1.0</td>\n",
              "      <td>NaN</td>\n",
              "      <td>NaN</td>\n",
              "      <td>NaN</td>\n",
              "    </tr>\n",
              "  </tbody>\n",
              "</table>\n",
              "<p>82 rows × 16 columns</p>\n",
              "</div>\n",
              "      <button class=\"colab-df-convert\" onclick=\"convertToInteractive('df-730ad441-41b0-4fae-892a-dbabfc68fc47')\"\n",
              "              title=\"Convert this dataframe to an interactive table.\"\n",
              "              style=\"display:none;\">\n",
              "\n",
              "  <svg xmlns=\"http://www.w3.org/2000/svg\" height=\"24px\"viewBox=\"0 0 24 24\"\n",
              "       width=\"24px\">\n",
              "    <path d=\"M0 0h24v24H0V0z\" fill=\"none\"/>\n",
              "    <path d=\"M18.56 5.44l.94 2.06.94-2.06 2.06-.94-2.06-.94-.94-2.06-.94 2.06-2.06.94zm-11 1L8.5 8.5l.94-2.06 2.06-.94-2.06-.94L8.5 2.5l-.94 2.06-2.06.94zm10 10l.94 2.06.94-2.06 2.06-.94-2.06-.94-.94-2.06-.94 2.06-2.06.94z\"/><path d=\"M17.41 7.96l-1.37-1.37c-.4-.4-.92-.59-1.43-.59-.52 0-1.04.2-1.43.59L10.3 9.45l-7.72 7.72c-.78.78-.78 2.05 0 2.83L4 21.41c.39.39.9.59 1.41.59.51 0 1.02-.2 1.41-.59l7.78-7.78 2.81-2.81c.8-.78.8-2.07 0-2.86zM5.41 20L4 18.59l7.72-7.72 1.47 1.35L5.41 20z\"/>\n",
              "  </svg>\n",
              "      </button>\n",
              "\n",
              "\n",
              "\n",
              "    <div id=\"df-43727880-1a95-4f31-9cca-238eb63cce80\">\n",
              "      <button class=\"colab-df-quickchart\" onclick=\"quickchart('df-43727880-1a95-4f31-9cca-238eb63cce80')\"\n",
              "              title=\"Suggest charts.\"\n",
              "              style=\"display:none;\">\n",
              "\n",
              "<svg xmlns=\"http://www.w3.org/2000/svg\" height=\"24px\"viewBox=\"0 0 24 24\"\n",
              "     width=\"24px\">\n",
              "    <g>\n",
              "        <path d=\"M19 3H5c-1.1 0-2 .9-2 2v14c0 1.1.9 2 2 2h14c1.1 0 2-.9 2-2V5c0-1.1-.9-2-2-2zM9 17H7v-7h2v7zm4 0h-2V7h2v10zm4 0h-2v-4h2v4z\"/>\n",
              "    </g>\n",
              "</svg>\n",
              "      </button>\n",
              "    </div>\n",
              "\n",
              "<style>\n",
              "  .colab-df-quickchart {\n",
              "    background-color: #E8F0FE;\n",
              "    border: none;\n",
              "    border-radius: 50%;\n",
              "    cursor: pointer;\n",
              "    display: none;\n",
              "    fill: #1967D2;\n",
              "    height: 32px;\n",
              "    padding: 0 0 0 0;\n",
              "    width: 32px;\n",
              "  }\n",
              "\n",
              "  .colab-df-quickchart:hover {\n",
              "    background-color: #E2EBFA;\n",
              "    box-shadow: 0px 1px 2px rgba(60, 64, 67, 0.3), 0px 1px 3px 1px rgba(60, 64, 67, 0.15);\n",
              "    fill: #174EA6;\n",
              "  }\n",
              "\n",
              "  [theme=dark] .colab-df-quickchart {\n",
              "    background-color: #3B4455;\n",
              "    fill: #D2E3FC;\n",
              "  }\n",
              "\n",
              "  [theme=dark] .colab-df-quickchart:hover {\n",
              "    background-color: #434B5C;\n",
              "    box-shadow: 0px 1px 3px 1px rgba(0, 0, 0, 0.15);\n",
              "    filter: drop-shadow(0px 1px 2px rgba(0, 0, 0, 0.3));\n",
              "    fill: #FFFFFF;\n",
              "  }\n",
              "</style>\n",
              "\n",
              "    <script>\n",
              "      async function quickchart(key) {\n",
              "        const containerElement = document.querySelector('#' + key);\n",
              "        const charts = await google.colab.kernel.invokeFunction(\n",
              "            'suggestCharts', [key], {});\n",
              "      }\n",
              "    </script>\n",
              "\n",
              "      <script>\n",
              "\n",
              "function displayQuickchartButton(domScope) {\n",
              "  let quickchartButtonEl =\n",
              "    domScope.querySelector('#df-43727880-1a95-4f31-9cca-238eb63cce80 button.colab-df-quickchart');\n",
              "  quickchartButtonEl.style.display =\n",
              "    google.colab.kernel.accessAllowed ? 'block' : 'none';\n",
              "}\n",
              "\n",
              "        displayQuickchartButton(document);\n",
              "      </script>\n",
              "      <style>\n",
              "    .colab-df-container {\n",
              "      display:flex;\n",
              "      flex-wrap:wrap;\n",
              "      gap: 12px;\n",
              "    }\n",
              "\n",
              "    .colab-df-convert {\n",
              "      background-color: #E8F0FE;\n",
              "      border: none;\n",
              "      border-radius: 50%;\n",
              "      cursor: pointer;\n",
              "      display: none;\n",
              "      fill: #1967D2;\n",
              "      height: 32px;\n",
              "      padding: 0 0 0 0;\n",
              "      width: 32px;\n",
              "    }\n",
              "\n",
              "    .colab-df-convert:hover {\n",
              "      background-color: #E2EBFA;\n",
              "      box-shadow: 0px 1px 2px rgba(60, 64, 67, 0.3), 0px 1px 3px 1px rgba(60, 64, 67, 0.15);\n",
              "      fill: #174EA6;\n",
              "    }\n",
              "\n",
              "    [theme=dark] .colab-df-convert {\n",
              "      background-color: #3B4455;\n",
              "      fill: #D2E3FC;\n",
              "    }\n",
              "\n",
              "    [theme=dark] .colab-df-convert:hover {\n",
              "      background-color: #434B5C;\n",
              "      box-shadow: 0px 1px 3px 1px rgba(0, 0, 0, 0.15);\n",
              "      filter: drop-shadow(0px 1px 2px rgba(0, 0, 0, 0.3));\n",
              "      fill: #FFFFFF;\n",
              "    }\n",
              "  </style>\n",
              "\n",
              "      <script>\n",
              "        const buttonEl =\n",
              "          document.querySelector('#df-730ad441-41b0-4fae-892a-dbabfc68fc47 button.colab-df-convert');\n",
              "        buttonEl.style.display =\n",
              "          google.colab.kernel.accessAllowed ? 'block' : 'none';\n",
              "\n",
              "        async function convertToInteractive(key) {\n",
              "          const element = document.querySelector('#df-730ad441-41b0-4fae-892a-dbabfc68fc47');\n",
              "          const dataTable =\n",
              "            await google.colab.kernel.invokeFunction('convertToInteractive',\n",
              "                                                     [key], {});\n",
              "          if (!dataTable) return;\n",
              "\n",
              "          const docLinkHtml = 'Like what you see? Visit the ' +\n",
              "            '<a target=\"_blank\" href=https://colab.research.google.com/notebooks/data_table.ipynb>data table notebook</a>'\n",
              "            + ' to learn more about interactive tables.';\n",
              "          element.innerHTML = '';\n",
              "          dataTable['output_type'] = 'display_data';\n",
              "          await google.colab.output.renderOutput(dataTable, element);\n",
              "          const docLink = document.createElement('div');\n",
              "          docLink.innerHTML = docLinkHtml;\n",
              "          element.appendChild(docLink);\n",
              "        }\n",
              "      </script>\n",
              "    </div>\n",
              "  </div>\n"
            ]
          },
          "metadata": {},
          "execution_count": 4
        }
      ],
      "source": [
        "df = pd.read_excel('data1.xlsx')\n",
        "df"
      ]
    },
    {
      "cell_type": "code",
      "execution_count": null,
      "metadata": {
        "id": "m_CIUZ0aCghO"
      },
      "outputs": [],
      "source": [
        "# Sukupuolen ja koulutuksen tekstimuotoiset arvot\n",
        "sukup = ['Mies', 'Nainen']\n",
        "koulutus = ['Peruskoulu', '2. aste', 'Korkeakoulu', 'Ylempi korkeakoulu']"
      ]
    },
    {
      "cell_type": "markdown",
      "metadata": {
        "id": "Sc3YvyHUCghP"
      },
      "source": [
        "## groupby + describe\n",
        "\n",
        "Voit jakaa datan ryhmiin **groupby**-funktiolla ja laskea tilastolliset tunnusluvut **describe**-funktiolla"
      ]
    },
    {
      "cell_type": "code",
      "execution_count": null,
      "metadata": {
        "id": "T9CriJAyCghP",
        "outputId": "6c879438-dcb0-4fd2-ef89-8e01270559aa",
        "colab": {
          "base_uri": "https://localhost:8080/",
          "height": 112
        }
      },
      "outputs": [
        {
          "output_type": "execute_result",
          "data": {
            "text/plain": [
              "<pandas.io.formats.style.Styler at 0x7b4aa490bbb0>"
            ],
            "text/html": [
              "<style type=\"text/css\">\n",
              "</style>\n",
              "<table id=\"T_b24b7\" class=\"dataframe\">\n",
              "  <thead>\n",
              "    <tr>\n",
              "      <th class=\"blank level0\" >&nbsp;</th>\n",
              "      <th id=\"T_b24b7_level0_col0\" class=\"col_heading level0 col0\" >Lukumäärä</th>\n",
              "      <th id=\"T_b24b7_level0_col1\" class=\"col_heading level0 col1\" >Keskiarvo</th>\n",
              "      <th id=\"T_b24b7_level0_col2\" class=\"col_heading level0 col2\" >Keskihajonta</th>\n",
              "      <th id=\"T_b24b7_level0_col3\" class=\"col_heading level0 col3\" >Pienin</th>\n",
              "      <th id=\"T_b24b7_level0_col4\" class=\"col_heading level0 col4\" >Alaneljännes</th>\n",
              "      <th id=\"T_b24b7_level0_col5\" class=\"col_heading level0 col5\" >Mediaani</th>\n",
              "      <th id=\"T_b24b7_level0_col6\" class=\"col_heading level0 col6\" >Yläneljännes</th>\n",
              "      <th id=\"T_b24b7_level0_col7\" class=\"col_heading level0 col7\" >Suurin</th>\n",
              "    </tr>\n",
              "  </thead>\n",
              "  <tbody>\n",
              "    <tr>\n",
              "      <th id=\"T_b24b7_level0_row0\" class=\"row_heading level0 row0\" >Mies</th>\n",
              "      <td id=\"T_b24b7_row0_col0\" class=\"data row0 col0\" >63</td>\n",
              "      <td id=\"T_b24b7_row0_col1\" class=\"data row0 col1\" >2664</td>\n",
              "      <td id=\"T_b24b7_row0_col2\" class=\"data row0 col2\" >930</td>\n",
              "      <td id=\"T_b24b7_row0_col3\" class=\"data row0 col3\" >1521</td>\n",
              "      <td id=\"T_b24b7_row0_col4\" class=\"data row0 col4\" >2086</td>\n",
              "      <td id=\"T_b24b7_row0_col5\" class=\"data row0 col5\" >2417</td>\n",
              "      <td id=\"T_b24b7_row0_col6\" class=\"data row0 col6\" >2925</td>\n",
              "      <td id=\"T_b24b7_row0_col7\" class=\"data row0 col7\" >6278</td>\n",
              "    </tr>\n",
              "    <tr>\n",
              "      <th id=\"T_b24b7_level0_row1\" class=\"row_heading level0 row1\" >Nainen</th>\n",
              "      <td id=\"T_b24b7_row1_col0\" class=\"data row1 col0\" >19</td>\n",
              "      <td id=\"T_b24b7_row1_col1\" class=\"data row1 col1\" >2233</td>\n",
              "      <td id=\"T_b24b7_row1_col2\" class=\"data row1 col2\" >341</td>\n",
              "      <td id=\"T_b24b7_row1_col3\" class=\"data row1 col3\" >1715</td>\n",
              "      <td id=\"T_b24b7_row1_col4\" class=\"data row1 col4\" >1969</td>\n",
              "      <td id=\"T_b24b7_row1_col5\" class=\"data row1 col5\" >2144</td>\n",
              "      <td id=\"T_b24b7_row1_col6\" class=\"data row1 col6\" >2574</td>\n",
              "      <td id=\"T_b24b7_row1_col7\" class=\"data row1 col7\" >2729</td>\n",
              "    </tr>\n",
              "  </tbody>\n",
              "</table>\n"
            ]
          },
          "metadata": {},
          "execution_count": 6
        }
      ],
      "source": [
        "# Palkan tunnuslukujen vertailu sukupuolen mukaan\n",
        "df1 = df.groupby('sukup')['palkka'].describe()\n",
        "\n",
        "# Taulukon otsikot\n",
        "df1.index = sukup\n",
        "\n",
        "# Tunnusluvuille suomenkieliset nimet\n",
        "tunnusluvut = ['Lukumäärä', 'Keskiarvo', 'Keskihajonta', 'Pienin', 'Alaneljännes',\n",
        "               'Mediaani', 'Yläneljännes', 'Suurin']\n",
        "df1.columns = tunnusluvut\n",
        "\n",
        "# Ulkoasun viimeistely\n",
        "df1.style.format('{:.0f}')"
      ]
    },
    {
      "cell_type": "code",
      "execution_count": null,
      "metadata": {
        "scrolled": true,
        "id": "rI9gI9vUCghP",
        "outputId": "ea9133fb-c798-4f76-bb59-fb94076b9861",
        "colab": {
          "base_uri": "https://localhost:8080/",
          "height": 174
        }
      },
      "outputs": [
        {
          "output_type": "execute_result",
          "data": {
            "text/plain": [
              "<pandas.io.formats.style.Styler at 0x7b4a97526500>"
            ],
            "text/html": [
              "<style type=\"text/css\">\n",
              "</style>\n",
              "<table id=\"T_a3d72\" class=\"dataframe\">\n",
              "  <thead>\n",
              "    <tr>\n",
              "      <th class=\"blank level0\" >&nbsp;</th>\n",
              "      <th id=\"T_a3d72_level0_col0\" class=\"col_heading level0 col0\" >count</th>\n",
              "      <th id=\"T_a3d72_level0_col1\" class=\"col_heading level0 col1\" >mean</th>\n",
              "      <th id=\"T_a3d72_level0_col2\" class=\"col_heading level0 col2\" >std</th>\n",
              "      <th id=\"T_a3d72_level0_col3\" class=\"col_heading level0 col3\" >min</th>\n",
              "      <th id=\"T_a3d72_level0_col4\" class=\"col_heading level0 col4\" >25%</th>\n",
              "      <th id=\"T_a3d72_level0_col5\" class=\"col_heading level0 col5\" >50%</th>\n",
              "      <th id=\"T_a3d72_level0_col6\" class=\"col_heading level0 col6\" >75%</th>\n",
              "      <th id=\"T_a3d72_level0_col7\" class=\"col_heading level0 col7\" >max</th>\n",
              "    </tr>\n",
              "  </thead>\n",
              "  <tbody>\n",
              "    <tr>\n",
              "      <th id=\"T_a3d72_level0_row0\" class=\"row_heading level0 row0\" >Peruskoulu</th>\n",
              "      <td id=\"T_a3d72_row0_col0\" class=\"data row0 col0\" >27</td>\n",
              "      <td id=\"T_a3d72_row0_col1\" class=\"data row0 col1\" >2310</td>\n",
              "      <td id=\"T_a3d72_row0_col2\" class=\"data row0 col2\" >473</td>\n",
              "      <td id=\"T_a3d72_row0_col3\" class=\"data row0 col3\" >1638</td>\n",
              "      <td id=\"T_a3d72_row0_col4\" class=\"data row0 col4\" >2008</td>\n",
              "      <td id=\"T_a3d72_row0_col5\" class=\"data row0 col5\" >2144</td>\n",
              "      <td id=\"T_a3d72_row0_col6\" class=\"data row0 col6\" >2534</td>\n",
              "      <td id=\"T_a3d72_row0_col7\" class=\"data row0 col7\" >3587</td>\n",
              "    </tr>\n",
              "    <tr>\n",
              "      <th id=\"T_a3d72_level0_row1\" class=\"row_heading level0 row1\" >2. aste</th>\n",
              "      <td id=\"T_a3d72_row1_col0\" class=\"data row1 col0\" >30</td>\n",
              "      <td id=\"T_a3d72_row1_col1\" class=\"data row1 col1\" >2403</td>\n",
              "      <td id=\"T_a3d72_row1_col2\" class=\"data row1 col2\" >534</td>\n",
              "      <td id=\"T_a3d72_row1_col3\" class=\"data row1 col3\" >1521</td>\n",
              "      <td id=\"T_a3d72_row1_col4\" class=\"data row1 col4\" >2008</td>\n",
              "      <td id=\"T_a3d72_row1_col5\" class=\"data row1 col5\" >2378</td>\n",
              "      <td id=\"T_a3d72_row1_col6\" class=\"data row1 col6\" >2729</td>\n",
              "      <td id=\"T_a3d72_row1_col7\" class=\"data row1 col7\" >3510</td>\n",
              "    </tr>\n",
              "    <tr>\n",
              "      <th id=\"T_a3d72_level0_row2\" class=\"row_heading level0 row2\" >Korkeakoulu</th>\n",
              "      <td id=\"T_a3d72_row2_col0\" class=\"data row2 col0\" >22</td>\n",
              "      <td id=\"T_a3d72_row2_col1\" class=\"data row2 col1\" >2887</td>\n",
              "      <td id=\"T_a3d72_row2_col2\" class=\"data row2 col2\" >1108</td>\n",
              "      <td id=\"T_a3d72_row2_col3\" class=\"data row2 col3\" >1559</td>\n",
              "      <td id=\"T_a3d72_row2_col4\" class=\"data row2 col4\" >2222</td>\n",
              "      <td id=\"T_a3d72_row2_col5\" class=\"data row2 col5\" >2710</td>\n",
              "      <td id=\"T_a3d72_row2_col6\" class=\"data row2 col6\" >2925</td>\n",
              "      <td id=\"T_a3d72_row2_col7\" class=\"data row2 col7\" >6278</td>\n",
              "    </tr>\n",
              "    <tr>\n",
              "      <th id=\"T_a3d72_level0_row3\" class=\"row_heading level0 row3\" >Ylempi korkeakoulu</th>\n",
              "      <td id=\"T_a3d72_row3_col0\" class=\"data row3 col0\" >2</td>\n",
              "      <td id=\"T_a3d72_row3_col1\" class=\"data row3 col1\" >5147</td>\n",
              "      <td id=\"T_a3d72_row3_col2\" class=\"data row3 col2\" >110</td>\n",
              "      <td id=\"T_a3d72_row3_col3\" class=\"data row3 col3\" >5069</td>\n",
              "      <td id=\"T_a3d72_row3_col4\" class=\"data row3 col4\" >5108</td>\n",
              "      <td id=\"T_a3d72_row3_col5\" class=\"data row3 col5\" >5147</td>\n",
              "      <td id=\"T_a3d72_row3_col6\" class=\"data row3 col6\" >5186</td>\n",
              "      <td id=\"T_a3d72_row3_col7\" class=\"data row3 col7\" >5225</td>\n",
              "    </tr>\n",
              "  </tbody>\n",
              "</table>\n"
            ]
          },
          "metadata": {},
          "execution_count": 7
        }
      ],
      "source": [
        "# Palkan tunnuslukujen vertailu koulutuksen mukaan\n",
        "df2 = df.groupby('koulutus')['palkka'].describe()\n",
        "\n",
        "# Taulukon otsikot\n",
        "df2.index = koulutus\n",
        "\n",
        "# Ulkoasun viimeistely\n",
        "df2.style.format('{:.0f}')"
      ]
    },
    {
      "cell_type": "markdown",
      "metadata": {
        "id": "YBIaqA1qCghP"
      },
      "source": [
        "## Ruutu- ja janakaavio eli boxplot\n",
        "\n",
        "Ruutu- ja janakaavio on havainnollinen tapa vertailuun. Kaavio näyttää viiden luvun yhteenvedon (pienin, alaneljännes, mediaani, yläneljännes, suurin) ja erityisen poikkeavat arvot.\n",
        "\n",
        "Seuraavissa esimerkeissä n-arvot on kikkailtu kaavioon vertailtavien ryhmien nimien yhteyteen. Jos koet tämän hankalaksi, niin n-arvot voi toki raportoitaessa esittää muullakin tavoin (esimerkiksi kaaviota selittävässä tekstissä tai describe-funktiolla lasketussa tunnuslukutaulukossa)."
      ]
    },
    {
      "cell_type": "code",
      "execution_count": null,
      "metadata": {
        "id": "zdopnB0ACghP",
        "outputId": "61b23bb0-8a29-4b28-865e-b057d32e98ce",
        "colab": {
          "base_uri": "https://localhost:8080/",
          "height": 447
        }
      },
      "outputs": [
        {
          "output_type": "execute_result",
          "data": {
            "text/plain": [
              "Text(0, 0.5, 'Kuukausipalkka')"
            ]
          },
          "metadata": {},
          "execution_count": 8
        },
        {
          "output_type": "display_data",
          "data": {
            "text/plain": [
              "<Figure size 640x480 with 1 Axes>"
            ],
            "image/png": "[encoded data removed]"
          },
          "metadata": {}
        }
      ],
      "source": [
        "# Palkan vertailu sukupuolen mukaan ruutu- ja janakaaviona\n",
        "sns.boxplot(data=df, x='sukup', y='palkka')\n",
        "\n",
        "# Naisten ja miesten palkka-arvojen lukumäärät\n",
        "n_mies = int(df1.iloc[0, 0])\n",
        "n_nainen = int(df1.iloc[1, 0])\n",
        "\n",
        "# Kategoria-akselin luokkien uudelleen nimeäminen (n-arvot mukaan)\n",
        "plt.xticks(ticks=[0, 1], labels=[f'Mies, n = {n_mies}', f'Nainen, n = {n_nainen}'])\n",
        "plt.xlabel('')\n",
        "plt.ylabel('Kuukausipalkka')"
      ]
    },
    {
      "cell_type": "code",
      "execution_count": null,
      "metadata": {
        "id": "7cxsZG-8CghQ",
        "outputId": "a7091905-2ac9-481a-d431-e5e1b2c1e1ee",
        "colab": {
          "base_uri": "https://localhost:8080/",
          "height": 463
        }
      },
      "outputs": [
        {
          "output_type": "execute_result",
          "data": {
            "text/plain": [
              "Text(0, 0.5, 'Kuukausipalkka')"
            ]
          },
          "metadata": {},
          "execution_count": 9
        },
        {
          "output_type": "display_data",
          "data": {
            "text/plain": [
              "<Figure size 640x480 with 1 Axes>"
            ],
            "image/png": "[encoded data removed]"
          },
          "metadata": {}
        }
      ],
      "source": [
        "# Palkan vertailu koulutuksen mukaan ruutu- ja janakaaviona\n",
        "\n",
        "sns.boxplot(data=df, x='koulutus', y='palkka')\n",
        "\n",
        "# Pientä kikkailua n-arvojen saamiseksi kaavioon\n",
        "n_koulutus = []\n",
        "for i in range(4):\n",
        "    # \\n on rivinvaihdon merkki\n",
        "    n_koulutus.append(f'{koulutus[i]}\\n n = {int(df2.iloc[i, 0])}')\n",
        "plt.xticks(ticks=[0, 1, 2, 3], labels=n_koulutus)\n",
        "\n",
        "plt.xlabel('')\n",
        "plt.ylabel('Kuukausipalkka')"
      ]
    },
    {
      "cell_type": "markdown",
      "metadata": {
        "id": "cH151lAvCghQ"
      },
      "source": [
        "## Pivot_table()\n",
        "\n",
        "Pivot-taulukkoon lasketaan oletuksena keskiarvoja."
      ]
    },
    {
      "cell_type": "code",
      "execution_count": null,
      "metadata": {
        "id": "tQNgpW-4CghQ",
        "outputId": "77ea0245-40cf-43f2-ba27-a4bb9f6f1dc9",
        "colab": {
          "base_uri": "https://localhost:8080/",
          "height": 206
        }
      },
      "outputs": [
        {
          "output_type": "execute_result",
          "data": {
            "text/plain": [
              "<pandas.io.formats.style.Styler at 0x7b4a603bacb0>"
            ],
            "text/html": [
              "<style type=\"text/css\">\n",
              "</style>\n",
              "<table id=\"T_daf80\" class=\"dataframe\">\n",
              "  <thead>\n",
              "    <tr>\n",
              "      <th class=\"blank level0\" >&nbsp;</th>\n",
              "      <th id=\"T_daf80_level0_col0\" class=\"col_heading level0 col0\" >Mies</th>\n",
              "      <th id=\"T_daf80_level0_col1\" class=\"col_heading level0 col1\" >Nainen</th>\n",
              "      <th id=\"T_daf80_level0_col2\" class=\"col_heading level0 col2\" >Kaikki</th>\n",
              "    </tr>\n",
              "  </thead>\n",
              "  <tbody>\n",
              "    <tr>\n",
              "      <th id=\"T_daf80_level0_row0\" class=\"row_heading level0 row0\" >Peruskoulu</th>\n",
              "      <td id=\"T_daf80_row0_col0\" class=\"data row0 col0\" >2354</td>\n",
              "      <td id=\"T_daf80_row0_col1\" class=\"data row0 col1\" >2121</td>\n",
              "      <td id=\"T_daf80_row0_col2\" class=\"data row0 col2\" >2310</td>\n",
              "    </tr>\n",
              "    <tr>\n",
              "      <th id=\"T_daf80_level0_row1\" class=\"row_heading level0 row1\" >2. aste</th>\n",
              "      <td id=\"T_daf80_row1_col0\" class=\"data row1 col0\" >2461</td>\n",
              "      <td id=\"T_daf80_row1_col1\" class=\"data row1 col1\" >2211</td>\n",
              "      <td id=\"T_daf80_row1_col2\" class=\"data row1 col2\" >2403</td>\n",
              "    </tr>\n",
              "    <tr>\n",
              "      <th id=\"T_daf80_level0_row2\" class=\"row_heading level0 row2\" >Korkeakoulu</th>\n",
              "      <td id=\"T_daf80_row2_col0\" class=\"data row2 col0\" >3145</td>\n",
              "      <td id=\"T_daf80_row2_col1\" class=\"data row2 col1\" >2334</td>\n",
              "      <td id=\"T_daf80_row2_col2\" class=\"data row2 col2\" >2887</td>\n",
              "    </tr>\n",
              "    <tr>\n",
              "      <th id=\"T_daf80_level0_row3\" class=\"row_heading level0 row3\" >Ylempi korkeakoulu</th>\n",
              "      <td id=\"T_daf80_row3_col0\" class=\"data row3 col0\" >5147</td>\n",
              "      <td id=\"T_daf80_row3_col1\" class=\"data row3 col1\" >-</td>\n",
              "      <td id=\"T_daf80_row3_col2\" class=\"data row3 col2\" >5147</td>\n",
              "    </tr>\n",
              "    <tr>\n",
              "      <th id=\"T_daf80_level0_row4\" class=\"row_heading level0 row4\" >Kaikki</th>\n",
              "      <td id=\"T_daf80_row4_col0\" class=\"data row4 col0\" >2675</td>\n",
              "      <td id=\"T_daf80_row4_col1\" class=\"data row4 col1\" >2233</td>\n",
              "      <td id=\"T_daf80_row4_col2\" class=\"data row4 col2\" >2571</td>\n",
              "    </tr>\n",
              "  </tbody>\n",
              "</table>\n"
            ]
          },
          "metadata": {},
          "execution_count": 10
        }
      ],
      "source": [
        "# Palkkakeskiarvojen vertailua sukupuolen ja koulutuksen mukaan\n",
        "df3 = df.pivot_table(values='palkka', index='koulutus', columns='sukup', margins=True)\n",
        "\n",
        "# Tekstimuotoisten arvojen listoihin täytyy lisätä otsikko viimeistä riviä/saraketta varten (Kaikki)\n",
        "df3.index = koulutus + ['Kaikki']\n",
        "df3.columns = sukup + ['Kaikki']\n",
        "\n",
        "# Ulkoasun viimeistely\n",
        "# Puuttuvan arvon merkiksi -\n",
        "df3.style.format('{:.0f}', na_rep='-')"
      ]
    },
    {
      "cell_type": "markdown",
      "metadata": {
        "id": "oazFQwmOCghQ"
      },
      "source": [
        "## Ovatko keskiarvojen erot tilastollisesti merkitseviä?\n",
        "\n",
        "Otoksessa havaitut ryhmien väliset erot voivat olla liian pieniä, jotta niitä voisi yleistää laajempaan perusjoukkoon, josta otos on otettu. Kyseessä voi olla otantavirheen (sattuman) aiheuttama ero.\n",
        "\n",
        "Eroa sanotaan merkitseväksi, jos sen perusteella voidaan tehdä yleistys laajempaan perusjoukkoon, josta otos on otettu. Eron merkitsevyyttä voidaan testata laskemalla niin kutsuttu **p-arvo**. Mitä pienempi p-arvo, sitä merkitsevämpi ero. Yleensä alle 0,05 (5 %) suuruisia p-arvoja pidetään osoituksena merkitsevästä erosta.\n",
        "\n",
        "Kahden ryhmän keskiarvojen vertailuun liittyvän p-arvon voit laskea kahden riippumattoman otoksen t-testillä (**ttest_ind**).\n",
        "\n",
        "ertailtavien ryhmien varianssien yhtäsuuruutta ei yleensä kannata olettaa (**equal_var=False**).\n",
        "\n",
        "Puuttuvia arvoja sisältävät rivit eivät saa olla testin laskennasta mukana ja **nan_policy**-parametri huolehtii tästä."
      ]
    },
    {
      "cell_type": "code",
      "execution_count": null,
      "metadata": {
        "id": "S3aS24a7CghQ",
        "outputId": "eea0b9d2-b565-4f00-9cb2-d558946f6845",
        "colab": {
          "base_uri": "https://localhost:8080/"
        }
      },
      "outputs": [
        {
          "output_type": "execute_result",
          "data": {
            "text/plain": [
              "Ttest_indResult(statistic=3.0597612743474714, pvalue=0.003048272029697872)"
            ]
          },
          "metadata": {},
          "execution_count": 11
        }
      ],
      "source": [
        "# Vertailtavien ryhmien muodostaminen\n",
        "s1 = df['palkka'][df['sukup']==1] # miesten palkat\n",
        "s2 = df['palkka'][df['sukup']==2] # naisten palkat\n",
        "\n",
        "# Kahden riippumattoman (ind) otoksen t-testi\n",
        "from scipy.stats import ttest_ind\n",
        "ttest_ind(s1, s2, equal_var=False, nan_policy='omit')"
      ]
    },
    {
      "cell_type": "markdown",
      "metadata": {
        "id": "K-QRV0V_CghQ"
      },
      "source": [
        "Miesten (keskiarvo 2664 euroa) ja naisten (keskiarvo 2233 euroa) palkkakeskiarvojen välillä on tilastollisesti merkitsevä ero (kahden riippumattoman otoksen 2-suuntaisen t-testin p = 0,003).\n",
        "\n",
        "Useamman ryhmän keskiarvojen vertailuun liittyvän p-arvon voit laskea F-testillä (**f_oneway**).\n",
        "\n",
        "Jos tarkasteltavalla muuttujalla on puuttuvia arvoja, niin alkuperäisen datan sijasta pitää käyttää dataa, josta puuttuvia arvoja sisältävät rivit on poistettu.\n",
        "\n",
        "Seuraavassa pelkistetympi tapa tulostaa näkyviin t-testin p-arvo:"
      ]
    },
    {
      "cell_type": "code",
      "execution_count": null,
      "metadata": {
        "id": "JUu5oVJzCghQ",
        "outputId": "c80aac37-f41a-4cb9-aa40-1081cbed107f",
        "colab": {
          "base_uri": "https://localhost:8080/"
        }
      },
      "outputs": [
        {
          "output_type": "stream",
          "name": "stdout",
          "text": [
            "p-arvo 0.003\n"
          ]
        }
      ],
      "source": [
        "p = ttest_ind(s1, s2, equal_var=False, nan_policy='omit')[1]\n",
        "print(f'p-arvo {p:.3f}')"
      ]
    },
    {
      "cell_type": "code",
      "execution_count": null,
      "metadata": {
        "id": "OEFKfadoCghR",
        "outputId": "2bf6cd61-4a7d-470d-c740-1e0688e270df",
        "colab": {
          "base_uri": "https://localhost:8080/"
        }
      },
      "outputs": [
        {
          "output_type": "execute_result",
          "data": {
            "text/plain": [
              "F_onewayResult(statistic=11.675086950951924, pvalue=2.186573534680074e-06)"
            ]
          },
          "metadata": {},
          "execution_count": 13
        }
      ],
      "source": [
        "# Data, josta on poistettu mahdolliset palkan puuttuvia arvoja sisältävät rivit\n",
        "df_dropna = df.dropna(subset=['palkka'])\n",
        "\n",
        "# Vertailtavien ryhmien muodostaminen\n",
        "k1 = df_dropna['palkka'][df_dropna['koulutus']==1] # peruskoulu suorittaneiden palkat\n",
        "k2 = df_dropna['palkka'][df_dropna['koulutus']==2] # 2. aste suorittaneiden palkat\n",
        "k3 = df_dropna['palkka'][df_dropna['koulutus']==3] # korkeakoulun suorittaneiden palkat\n",
        "k4 = df_dropna['palkka'][df_dropna['koulutus']==4] # ylemmän korkeakoulun suorittaneiden palkat\n",
        "\n",
        "# F-testi\n",
        "from scipy.stats import f_oneway\n",
        "f_oneway(k1, k2, k3, k4)"
      ]
    },
    {
      "cell_type": "markdown",
      "metadata": {
        "id": "NvgajJuMCghR"
      },
      "source": [
        "Seuraavassa pelkistetympi p-arvon tulostus. Erittäin pienet p-arvot esitetään tieteellisessä esitysmuodossa kymmenen potensseina (esimerkiksi yllä 2.19*10e-06). Seuraavassa p-arvot esitetään 3-desimaalin tarkkuudella, jolloin alle 0.001 suuruiset p-arvot näkyvät arvoina 0.000"
      ]
    },
    {
      "cell_type": "code",
      "execution_count": null,
      "metadata": {
        "id": "6ce7nw1cCghR",
        "outputId": "c41a96c7-7920-4125-85ff-514889ded6bb",
        "colab": {
          "base_uri": "https://localhost:8080/"
        }
      },
      "outputs": [
        {
          "output_type": "stream",
          "name": "stdout",
          "text": [
            "p-arvo 0.000\n"
          ]
        }
      ],
      "source": [
        "p = f_oneway(k1, k2, k3, k4)[1]\n",
        "print(f'p-arvo {p:.3f}')"
      ]
    },
    {
      "cell_type": "markdown",
      "metadata": {
        "id": "Oe7N_cs_CghR"
      },
      "source": [
        "Eri koulutuksen suorittaneiden välillä on tilastollisesti merkitseviä eroja palkkakeskiarvoissa (F-testin p < 0,001)."
      ]
    },
    {
      "cell_type": "markdown",
      "metadata": {
        "id": "MW_U2Yd4CghR"
      },
      "source": [
        "## Lisätietoa\n",
        "\n",
        "* Onko ryhmien välinen ero tilastolliseti merkitsevä\n",
        "https://tilastoapu.wordpress.com/2012/04/14/onko-ryhmien-valinen-ero-tilastollisesti-merkitseva/\n",
        "\n",
        "* Lisätietoa p-arvoista\n",
        "https://tilastoapu.wordpress.com/2012/02/14/p-arvo/\n",
        "\n",
        "* p-arvoja Pythonilla eri testaustilanteisiin\n",
        "https://nbviewer.jupyter.org/github/taanila/selittava/blob/main/p.ipynb\n",
        "\n",
        "Data-analytiikka Pythonilla https://tilastoapu.wordpress.com/python/"
      ]
    }
  ],
  "metadata": {
    "kernelspec": {
      "display_name": "Python 3 (ipykernel)",
      "language": "python",
      "name": "python3"
    },
    "language_info": {
      "codemirror_mode": {
        "name": "ipython",
        "version": 3
      },
      "file_extension": ".py",
      "mimetype": "text/x-python",
      "name": "python",
      "nbconvert_exporter": "python",
      "pygments_lexer": "ipython3",
      "version": "3.10.9"
    },
    "colab": {
      "provenance": [],
      "include_colab_link": true
    }
  },
  "nbformat": 4,
  "nbformat_minor": 0
}